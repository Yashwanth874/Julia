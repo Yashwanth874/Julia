{
 "cells": [
  {
   "cell_type": "markdown",
   "id": "dc8113c4",
   "metadata": {},
   "source": [
    "\n",
    "# Data Types\n",
    "\n"
   ]
  },
  {
   "cell_type": "markdown",
   "id": "77d7a6c0",
   "metadata": {},
   "source": [
    "\n",
    "# 2.1 Types in Julia\n"
   ]
  },
  {
   "cell_type": "code",
   "execution_count": 1,
   "id": "53accaf9",
   "metadata": {},
   "outputs": [],
   "source": [
    "# Types in Julia\n",
    "# Variables "
   ]
  },
  {
   "cell_type": "code",
   "execution_count": 2,
   "id": "fcaef545",
   "metadata": {},
   "outputs": [
    {
     "data": {
      "text/plain": [
       "1"
      ]
     },
     "execution_count": 2,
     "metadata": {},
     "output_type": "execute_result"
    }
   ],
   "source": [
    "a = 1"
   ]
  },
  {
   "cell_type": "code",
   "execution_count": 4,
   "id": "5e4e08bf",
   "metadata": {},
   "outputs": [
    {
     "data": {
      "text/plain": [
       "2"
      ]
     },
     "execution_count": 4,
     "metadata": {},
     "output_type": "execute_result"
    }
   ],
   "source": [
    "abc = 2"
   ]
  },
  {
   "cell_type": "code",
   "execution_count": 5,
   "id": "4a883816",
   "metadata": {},
   "outputs": [
    {
     "ename": "LoadError",
     "evalue": "syntax: \"1\" is not a valid function argument name around In[5]:1",
     "output_type": "error",
     "traceback": [
      "syntax: \"1\" is not a valid function argument name around In[5]:1",
      "",
      "Stacktrace:",
      " [1] top-level scope",
      "   @ In[5]:1",
      " [2] eval",
      "   @ .\\boot.jl:360 [inlined]",
      " [3] include_string(mapexpr::typeof(REPL.softscope), mod::Module, code::String, filename::String)",
      "   @ Base .\\loading.jl:1116"
     ]
    }
   ],
   "source": [
    "1abc = 2"
   ]
  },
  {
   "cell_type": "code",
   "execution_count": 6,
   "id": "23b4e8c3",
   "metadata": {},
   "outputs": [
    {
     "data": {
      "text/plain": [
       "3.242"
      ]
     },
     "execution_count": 6,
     "metadata": {},
     "output_type": "execute_result"
    }
   ],
   "source": [
    "πi = 3.242"
   ]
  },
  {
   "cell_type": "code",
   "execution_count": 7,
   "id": "c6f4ea9a",
   "metadata": {},
   "outputs": [
    {
     "data": {
      "text/plain": [
       "3.242"
      ]
     },
     "execution_count": 7,
     "metadata": {},
     "output_type": "execute_result"
    }
   ],
   "source": [
    "aπi = 3.242"
   ]
  },
  {
   "cell_type": "markdown",
   "id": "c2ab82a3",
   "metadata": {},
   "source": [
    "# Definitions vs Initializations "
   ]
  },
  {
   "cell_type": "code",
   "execution_count": 9,
   "id": "dcca62ad",
   "metadata": {},
   "outputs": [
    {
     "ename": "LoadError",
     "evalue": "syntax: type declarations on global variables are not yet supported",
     "output_type": "error",
     "traceback": [
      "syntax: type declarations on global variables are not yet supported",
      "",
      "Stacktrace:",
      " [1] top-level scope",
      "   @ In[9]:1",
      " [2] eval",
      "   @ .\\boot.jl:360 [inlined]",
      " [3] include_string(mapexpr::typeof(REPL.softscope), mod::Module, code::String, filename::String)",
      "   @ Base .\\loading.jl:1116"
     ]
    }
   ],
   "source": [
    "i::Int = 1 "
   ]
  },
  {
   "cell_type": "code",
   "execution_count": 10,
   "id": "200bf594",
   "metadata": {},
   "outputs": [
    {
     "data": {
      "text/plain": [
       "5"
      ]
     },
     "execution_count": 10,
     "metadata": {},
     "output_type": "execute_result"
    }
   ],
   "source": [
    "function f()\n",
    "    i::Int = 5\n",
    "    return i\n",
    "end \n",
    "f()"
   ]
  },
  {
   "cell_type": "code",
   "execution_count": 11,
   "id": "98b13726",
   "metadata": {},
   "outputs": [
    {
     "data": {
      "text/plain": [
       "f (generic function with 1 method)"
      ]
     },
     "execution_count": 11,
     "metadata": {},
     "output_type": "execute_result"
    }
   ],
   "source": [
    "function f()\n",
    "    i\n",
    "    return i \n",
    "end"
   ]
  },
  {
   "cell_type": "code",
   "execution_count": 12,
   "id": "337b1a97",
   "metadata": {},
   "outputs": [
    {
     "ename": "LoadError",
     "evalue": "UndefVarError: i not defined",
     "output_type": "error",
     "traceback": [
      "UndefVarError: i not defined",
      "",
      "Stacktrace:",
      " [1] f()",
      "   @ Main .\\In[11]:2",
      " [2] top-level scope",
      "   @ In[12]:1",
      " [3] eval",
      "   @ .\\boot.jl:360 [inlined]",
      " [4] include_string(mapexpr::typeof(REPL.softscope), mod::Module, code::String, filename::String)",
      "   @ Base .\\loading.jl:1116"
     ]
    }
   ],
   "source": [
    "f()"
   ]
  },
  {
   "cell_type": "markdown",
   "id": "726c77b3",
   "metadata": {},
   "source": [
    "# Constants "
   ]
  },
  {
   "cell_type": "code",
   "execution_count": 14,
   "id": "14ad0436",
   "metadata": {},
   "outputs": [
    {
     "data": {
      "text/plain": [
       "1"
      ]
     },
     "execution_count": 14,
     "metadata": {},
     "output_type": "execute_result"
    }
   ],
   "source": [
    "const ICONSTANT = 1"
   ]
  },
  {
   "cell_type": "code",
   "execution_count": 25,
   "id": "3193c3db",
   "metadata": {},
   "outputs": [
    {
     "name": "stderr",
     "output_type": "stream",
     "text": [
      "WARNING: redefinition of constant ICONSTANT. This may fail, cause incorrect answers, or produce other errors.\n"
     ]
    },
    {
     "data": {
      "text/plain": [
       "7"
      ]
     },
     "execution_count": 25,
     "metadata": {},
     "output_type": "execute_result"
    }
   ],
   "source": [
    "ICONSTANT = 7"
   ]
  },
  {
   "cell_type": "code",
   "execution_count": 16,
   "id": "933289d1",
   "metadata": {},
   "outputs": [
    {
     "data": {
      "text/plain": [
       "5"
      ]
     },
     "execution_count": 16,
     "metadata": {},
     "output_type": "execute_result"
    }
   ],
   "source": [
    "ICONSTANT"
   ]
  },
  {
   "cell_type": "markdown",
   "id": "6899be28",
   "metadata": {},
   "source": [
    "# LITERALS "
   ]
  },
  {
   "cell_type": "code",
   "execution_count": 18,
   "id": "04eb7afd",
   "metadata": {},
   "outputs": [
    {
     "data": {
      "text/plain": [
       "9"
      ]
     },
     "execution_count": 18,
     "metadata": {},
     "output_type": "execute_result"
    }
   ],
   "source": [
    "#Integer \n",
    "9"
   ]
  },
  {
   "cell_type": "code",
   "execution_count": 24,
   "id": "3a698931",
   "metadata": {},
   "outputs": [
    {
     "data": {
      "text/plain": [
       "3.0"
      ]
     },
     "execution_count": 24,
     "metadata": {},
     "output_type": "execute_result"
    }
   ],
   "source": [
    "#Double precision Float \n",
    "3.0"
   ]
  },
  {
   "cell_type": "code",
   "execution_count": 21,
   "id": "744def0f",
   "metadata": {},
   "outputs": [
    {
     "data": {
      "text/plain": [
       "2.0f0"
      ]
     },
     "execution_count": 21,
     "metadata": {},
     "output_type": "execute_result"
    }
   ],
   "source": [
    "#Single percision Float \n",
    "2f0"
   ]
  },
  {
   "cell_type": "code",
   "execution_count": 22,
   "id": "c12eb360",
   "metadata": {},
   "outputs": [
    {
     "data": {
      "text/plain": [
       "\"string\""
      ]
     },
     "execution_count": 22,
     "metadata": {},
     "output_type": "execute_result"
    }
   ],
   "source": [
    "# String\n",
    "\"string\""
   ]
  },
  {
   "cell_type": "code",
   "execution_count": 23,
   "id": "d320ff05",
   "metadata": {},
   "outputs": [
    {
     "data": {
      "text/plain": [
       "'a': ASCII/Unicode U+0061 (category Ll: Letter, lowercase)"
      ]
     },
     "execution_count": 23,
     "metadata": {},
     "output_type": "execute_result"
    }
   ],
   "source": [
    "#Char\n",
    "'a'"
   ]
  },
  {
   "cell_type": "markdown",
   "id": "71d8a8ee",
   "metadata": {},
   "source": [
    "# TUPLES"
   ]
  },
  {
   "cell_type": "code",
   "execution_count": 26,
   "id": "311fcefa",
   "metadata": {},
   "outputs": [
    {
     "data": {
      "text/plain": [
       "(15, 10)"
      ]
     },
     "execution_count": 26,
     "metadata": {},
     "output_type": "execute_result"
    }
   ],
   "source": [
    "a = 10\n",
    "b = 15\n",
    "a,b = b,a"
   ]
  },
  {
   "cell_type": "code",
   "execution_count": 27,
   "id": "a9ce628a",
   "metadata": {},
   "outputs": [
    {
     "data": {
      "text/plain": [
       "10"
      ]
     },
     "execution_count": 27,
     "metadata": {},
     "output_type": "execute_result"
    }
   ],
   "source": [
    "b"
   ]
  },
  {
   "cell_type": "code",
   "execution_count": 28,
   "id": "5b3b7043",
   "metadata": {},
   "outputs": [
    {
     "data": {
      "text/plain": [
       "15"
      ]
     },
     "execution_count": 28,
     "metadata": {},
     "output_type": "execute_result"
    }
   ],
   "source": [
    "a\n"
   ]
  },
  {
   "cell_type": "code",
   "execution_count": 29,
   "id": "9a067ec1",
   "metadata": {},
   "outputs": [
    {
     "data": {
      "text/plain": [
       "(9, 10)"
      ]
     },
     "execution_count": 29,
     "metadata": {},
     "output_type": "execute_result"
    }
   ],
   "source": [
    "9,10"
   ]
  },
  {
   "cell_type": "code",
   "execution_count": 30,
   "id": "73dfd2fb",
   "metadata": {},
   "outputs": [
    {
     "data": {
      "text/plain": [
       "(3, 4)"
      ]
     },
     "execution_count": 30,
     "metadata": {},
     "output_type": "execute_result"
    }
   ],
   "source": [
    "x = (3,4)"
   ]
  },
  {
   "cell_type": "code",
   "execution_count": 31,
   "id": "2096f9ec",
   "metadata": {},
   "outputs": [
    {
     "data": {
      "text/plain": [
       "Tuple{Int64, Int64}"
      ]
     },
     "execution_count": 31,
     "metadata": {},
     "output_type": "execute_result"
    }
   ],
   "source": [
    "typeof(x)"
   ]
  },
  {
   "cell_type": "code",
   "execution_count": 32,
   "id": "fe568737",
   "metadata": {},
   "outputs": [
    {
     "data": {
      "text/plain": [
       "15"
      ]
     },
     "execution_count": 32,
     "metadata": {},
     "output_type": "execute_result"
    }
   ],
   "source": [
    "a[1]"
   ]
  },
  {
   "cell_type": "code",
   "execution_count": 34,
   "id": "e52356bf",
   "metadata": {},
   "outputs": [
    {
     "data": {
      "text/plain": [
       "(3, 4)"
      ]
     },
     "execution_count": 34,
     "metadata": {},
     "output_type": "execute_result"
    }
   ],
   "source": [
    "i,j=3,4"
   ]
  },
  {
   "cell_type": "code",
   "execution_count": 35,
   "id": "9d229a60",
   "metadata": {},
   "outputs": [
    {
     "data": {
      "text/plain": [
       "3"
      ]
     },
     "execution_count": 35,
     "metadata": {},
     "output_type": "execute_result"
    }
   ],
   "source": [
    "i"
   ]
  },
  {
   "cell_type": "code",
   "execution_count": 36,
   "id": "2e48b6a5",
   "metadata": {},
   "outputs": [
    {
     "data": {
      "text/plain": [
       "4"
      ]
     },
     "execution_count": 36,
     "metadata": {},
     "output_type": "execute_result"
    }
   ],
   "source": [
    "j"
   ]
  },
  {
   "cell_type": "code",
   "execution_count": 37,
   "id": "708eb655",
   "metadata": {},
   "outputs": [
    {
     "data": {
      "text/plain": [
       "(1, 2, 3)"
      ]
     },
     "execution_count": 37,
     "metadata": {},
     "output_type": "execute_result"
    }
   ],
   "source": [
    "i,j = 1,2,3"
   ]
  },
  {
   "cell_type": "code",
   "execution_count": 38,
   "id": "f9e63e3a",
   "metadata": {},
   "outputs": [
    {
     "data": {
      "text/plain": [
       "1"
      ]
     },
     "execution_count": 38,
     "metadata": {},
     "output_type": "execute_result"
    }
   ],
   "source": [
    "i"
   ]
  },
  {
   "cell_type": "code",
   "execution_count": 39,
   "id": "77e3941a",
   "metadata": {},
   "outputs": [
    {
     "data": {
      "text/plain": [
       "2"
      ]
     },
     "execution_count": 39,
     "metadata": {},
     "output_type": "execute_result"
    }
   ],
   "source": [
    "j"
   ]
  },
  {
   "cell_type": "markdown",
   "id": "ef51cf34",
   "metadata": {},
   "source": [
    "# 2.2 Built-in Types"
   ]
  },
  {
   "cell_type": "markdown",
   "id": "85b10bb0",
   "metadata": {},
   "source": [
    "\n",
    "# Nothing"
   ]
  },
  {
   "cell_type": "code",
   "execution_count": 40,
   "id": "71dfa6df",
   "metadata": {},
   "outputs": [
    {
     "data": {
      "text/plain": [
       "Nothing"
      ]
     },
     "execution_count": 40,
     "metadata": {},
     "output_type": "execute_result"
    }
   ],
   "source": [
    "typeof(nothing)"
   ]
  },
  {
   "cell_type": "code",
   "execution_count": 43,
   "id": "f1153319",
   "metadata": {},
   "outputs": [
    {
     "data": {
      "text/plain": [
       "Nothing"
      ]
     },
     "execution_count": 43,
     "metadata": {},
     "output_type": "execute_result"
    }
   ],
   "source": [
    "a = nothing \n",
    "i = 9\n",
    "if i<9\n",
    "   a=9\n",
    "end\n",
    "9\n",
    "typeof(a)"
   ]
  },
  {
   "cell_type": "markdown",
   "id": "7a3b8280",
   "metadata": {},
   "source": [
    "# Numeric Types \n",
    "# Bool"
   ]
  },
  {
   "cell_type": "code",
   "execution_count": 45,
   "id": "6e25899e",
   "metadata": {},
   "outputs": [
    {
     "data": {
      "text/plain": [
       "Int64"
      ]
     },
     "execution_count": 45,
     "metadata": {},
     "output_type": "execute_result"
    }
   ],
   "source": [
    "typeof(2)"
   ]
  },
  {
   "cell_type": "code",
   "execution_count": 48,
   "id": "ebe566f0",
   "metadata": {},
   "outputs": [
    {
     "data": {
      "text/plain": [
       "(UInt8, UInt8, UInt8)"
      ]
     },
     "execution_count": 48,
     "metadata": {},
     "output_type": "execute_result"
    }
   ],
   "source": [
    "typeof(0b1), typeof(0o7), typeof(0xff)"
   ]
  },
  {
   "cell_type": "code",
   "execution_count": 52,
   "id": "cff303f4",
   "metadata": {},
   "outputs": [
    {
     "data": {
      "text/plain": [
       "(UInt8, UInt16, UInt32, UInt32, UInt64, UInt64)"
      ]
     },
     "execution_count": 52,
     "metadata": {},
     "output_type": "execute_result"
    }
   ],
   "source": [
    "typeof(0xb), typeof(0xbbb), typeof(0xbbbbb), typeof(0xbbbbbbbb), typeof(0xbbbbbbbbb),typeof(0xbbbbbbbbbb)"
   ]
  },
  {
   "cell_type": "markdown",
   "id": "288b72a6",
   "metadata": {},
   "source": [
    "#  Floating Point Numbers"
   ]
  },
  {
   "cell_type": "code",
   "execution_count": 53,
   "id": "09f35a8d",
   "metadata": {},
   "outputs": [
    {
     "data": {
      "text/plain": [
       "(Float64, Float64, Float64)"
      ]
     },
     "execution_count": 53,
     "metadata": {},
     "output_type": "execute_result"
    }
   ],
   "source": [
    "typeof(2.0), typeof(2e0), typeof(2.e4)"
   ]
  },
  {
   "cell_type": "code",
   "execution_count": 54,
   "id": "45e215f4",
   "metadata": {},
   "outputs": [
    {
     "data": {
      "text/plain": [
       "(Float32, Float32, Float32)"
      ]
     },
     "execution_count": 54,
     "metadata": {},
     "output_type": "execute_result"
    }
   ],
   "source": [
    "typeof(1.0f0), typeof(1f-6), typeof(1.f4)"
   ]
  },
  {
   "cell_type": "markdown",
   "id": "908efab1",
   "metadata": {},
   "source": [
    "# Abstract Types"
   ]
  },
  {
   "cell_type": "code",
   "execution_count": 55,
   "id": "f994b3bc",
   "metadata": {},
   "outputs": [],
   "source": [
    "abstract type MyAbstractType end\n",
    "struct MyConcreteType <: MyAbstractType\n",
    "    member\n",
    "end"
   ]
  },
  {
   "cell_type": "code",
   "execution_count": 56,
   "id": "7ae3e711",
   "metadata": {},
   "outputs": [
    {
     "data": {
      "text/plain": [
       "MyConcreteType(5)"
      ]
     },
     "execution_count": 56,
     "metadata": {},
     "output_type": "execute_result"
    }
   ],
   "source": [
    "a = MyConcreteType(5)"
   ]
  },
  {
   "cell_type": "code",
   "execution_count": 57,
   "id": "2a5ee439",
   "metadata": {},
   "outputs": [
    {
     "data": {
      "text/plain": [
       "true"
      ]
     },
     "execution_count": 57,
     "metadata": {},
     "output_type": "execute_result"
    }
   ],
   "source": [
    "a isa MyAbstractType"
   ]
  },
  {
   "cell_type": "markdown",
   "id": "32856a5b",
   "metadata": {},
   "source": [
    "# Primitive Types"
   ]
  },
  {
   "cell_type": "code",
   "execution_count": 58,
   "id": "3e36c4c1",
   "metadata": {},
   "outputs": [
    {
     "ename": "LoadError",
     "evalue": "InexactError: UInt32(0.3)",
     "output_type": "error",
     "traceback": [
      "InexactError: UInt32(0.3)",
      "",
      "Stacktrace:",
      " [1] UInt32(x::Float32)",
      "   @ Base .\\float.jl:702",
      " [2] top-level scope",
      "   @ In[58]:1",
      " [3] eval",
      "   @ .\\boot.jl:360 [inlined]",
      " [4] include_string(mapexpr::typeof(REPL.softscope), mod::Module, code::String, filename::String)",
      "   @ Base .\\loading.jl:1116"
     ]
    }
   ],
   "source": [
    "UInt32(3f-1)"
   ]
  },
  {
   "cell_type": "code",
   "execution_count": 59,
   "id": "7d7e55bd",
   "metadata": {},
   "outputs": [],
   "source": [
    "primitive type MyType1 40 end"
   ]
  },
  {
   "cell_type": "code",
   "execution_count": 60,
   "id": "cefc0351",
   "metadata": {},
   "outputs": [
    {
     "ename": "LoadError",
     "evalue": "invalid number of bits in primitive type MyType2",
     "output_type": "error",
     "traceback": [
      "invalid number of bits in primitive type MyType2",
      "",
      "Stacktrace:",
      " [1] top-level scope",
      "   @ In[60]:1",
      " [2] eval",
      "   @ .\\boot.jl:360 [inlined]",
      " [3] include_string(mapexpr::typeof(REPL.softscope), mod::Module, code::String, filename::String)",
      "   @ Base .\\loading.jl:1116"
     ]
    }
   ],
   "source": [
    "primitive type MyType2 4 end"
   ]
  },
  {
   "cell_type": "markdown",
   "id": "c243bbdd",
   "metadata": {},
   "source": [
    "# Bit Types"
   ]
  },
  {
   "cell_type": "code",
   "execution_count": 61,
   "id": "840cb4d4",
   "metadata": {},
   "outputs": [
    {
     "data": {
      "text/plain": [
       "15"
      ]
     },
     "execution_count": 61,
     "metadata": {},
     "output_type": "execute_result"
    }
   ],
   "source": [
    "a = 15"
   ]
  },
  {
   "cell_type": "code",
   "execution_count": 62,
   "id": "6c3fa6af",
   "metadata": {},
   "outputs": [
    {
     "data": {
      "text/plain": [
       "true"
      ]
     },
     "execution_count": 62,
     "metadata": {},
     "output_type": "execute_result"
    }
   ],
   "source": [
    "isbits(a)"
   ]
  },
  {
   "cell_type": "code",
   "execution_count": 63,
   "id": "24ba70bd",
   "metadata": {},
   "outputs": [
    {
     "data": {
      "text/plain": [
       "true"
      ]
     },
     "execution_count": 63,
     "metadata": {},
     "output_type": "execute_result"
    }
   ],
   "source": [
    "isbitstype(Int)"
   ]
  },
  {
   "cell_type": "markdown",
   "id": "91a5a354",
   "metadata": {},
   "source": [
    "# 2.3 User Defined Types\n",
    "# struct\n"
   ]
  },
  {
   "cell_type": "code",
   "execution_count": 64,
   "id": "7ff77f6c",
   "metadata": {},
   "outputs": [],
   "source": [
    "struct Rectangle\n",
    "    h::Float64\n",
    "    w::Float64\n",
    "end"
   ]
  },
  {
   "cell_type": "code",
   "execution_count": 65,
   "id": "162cc1d9",
   "metadata": {},
   "outputs": [
    {
     "data": {
      "text/plain": [
       "Rectangle(20.0, 40.0)"
      ]
     },
     "execution_count": 65,
     "metadata": {},
     "output_type": "execute_result"
    }
   ],
   "source": [
    "\n",
    "r = Rectangle(20.0, 40.0)"
   ]
  },
  {
   "cell_type": "markdown",
   "id": "3c26cbaa",
   "metadata": {},
   "source": [
    "# mutable struct"
   ]
  },
  {
   "cell_type": "code",
   "execution_count": 66,
   "id": "2517ed05",
   "metadata": {},
   "outputs": [],
   "source": [
    "mutable struct MRectangle\n",
    "    h::Float64\n",
    "    w::Float64\n",
    "end"
   ]
  },
  {
   "cell_type": "code",
   "execution_count": 67,
   "id": "f45fb81e",
   "metadata": {},
   "outputs": [
    {
     "data": {
      "text/plain": [
       "MRectangle(20.0, 40.0)"
      ]
     },
     "execution_count": 67,
     "metadata": {},
     "output_type": "execute_result"
    }
   ],
   "source": [
    "mr = MRectangle(20.0, 40.0)"
   ]
  },
  {
   "cell_type": "code",
   "execution_count": 68,
   "id": "44fbc6af",
   "metadata": {},
   "outputs": [
    {
     "data": {
      "text/plain": [
       "30.0"
      ]
     },
     "execution_count": 68,
     "metadata": {},
     "output_type": "execute_result"
    }
   ],
   "source": [
    "mr.h = 30.0"
   ]
  },
  {
   "cell_type": "code",
   "execution_count": 69,
   "id": "6c870f66",
   "metadata": {},
   "outputs": [
    {
     "data": {
      "text/plain": [
       "MRectangle(30.0, 40.0)"
      ]
     },
     "execution_count": 69,
     "metadata": {},
     "output_type": "execute_result"
    }
   ],
   "source": [
    "mr"
   ]
  },
  {
   "cell_type": "code",
   "execution_count": 70,
   "id": "f32f815b",
   "metadata": {},
   "outputs": [],
   "source": [
    "abstract type Shape end\n",
    "struct Rectangle1 <: Shape\n",
    "    w::Float64\n",
    "    h::Float64\n",
    "end\n",
    "struct Square <: Shape\n",
    "    l::Float64\n",
    "end"
   ]
  },
  {
   "cell_type": "markdown",
   "id": "d962eeb1",
   "metadata": {},
   "source": [
    "# Members"
   ]
  },
  {
   "cell_type": "code",
   "execution_count": 71,
   "id": "d4886e0a",
   "metadata": {},
   "outputs": [],
   "source": [
    "mutable struct A\n",
    "    member\n",
    "end"
   ]
  },
  {
   "cell_type": "code",
   "execution_count": 72,
   "id": "5550d34c",
   "metadata": {},
   "outputs": [
    {
     "data": {
      "text/plain": [
       "A(10)"
      ]
     },
     "execution_count": 72,
     "metadata": {},
     "output_type": "execute_result"
    }
   ],
   "source": [
    "a=A(10)"
   ]
  },
  {
   "cell_type": "code",
   "execution_count": 73,
   "id": "165b2d29",
   "metadata": {},
   "outputs": [
    {
     "data": {
      "text/plain": [
       "Int64"
      ]
     },
     "execution_count": 73,
     "metadata": {},
     "output_type": "execute_result"
    }
   ],
   "source": [
    "typeof(a.member)"
   ]
  },
  {
   "cell_type": "code",
   "execution_count": 74,
   "id": "d2670942",
   "metadata": {},
   "outputs": [
    {
     "data": {
      "text/plain": [
       "A(\"String\")"
      ]
     },
     "execution_count": 74,
     "metadata": {},
     "output_type": "execute_result"
    }
   ],
   "source": [
    "a1 = A(\"String\")"
   ]
  },
  {
   "cell_type": "code",
   "execution_count": 75,
   "id": "180f3098",
   "metadata": {},
   "outputs": [
    {
     "data": {
      "text/plain": [
       "String"
      ]
     },
     "execution_count": 75,
     "metadata": {},
     "output_type": "execute_result"
    }
   ],
   "source": [
    "typeof(a1.member)"
   ]
  },
  {
   "cell_type": "markdown",
   "id": "68c7b874",
   "metadata": {},
   "source": [
    "# 2.4 Any"
   ]
  },
  {
   "cell_type": "code",
   "execution_count": 76,
   "id": "d90eae49",
   "metadata": {},
   "outputs": [
    {
     "data": {
      "text/plain": [
       "\"String\""
      ]
     },
     "execution_count": 76,
     "metadata": {},
     "output_type": "execute_result"
    }
   ],
   "source": [
    "a.member = \"String\""
   ]
  },
  {
   "cell_type": "code",
   "execution_count": 77,
   "id": "5a931603",
   "metadata": {},
   "outputs": [
    {
     "data": {
      "text/plain": [
       "String"
      ]
     },
     "execution_count": 77,
     "metadata": {},
     "output_type": "execute_result"
    }
   ],
   "source": [
    "typeof(a.member)"
   ]
  },
  {
   "cell_type": "markdown",
   "id": "755622d0",
   "metadata": {},
   "source": [
    "# 2.5 Parametric Data Types"
   ]
  },
  {
   "cell_type": "code",
   "execution_count": 78,
   "id": "83c1b8f3",
   "metadata": {},
   "outputs": [
    {
     "ename": "LoadError",
     "evalue": "TypeError: in Rational, in T, expected T<:Integer, got Type{Any}",
     "output_type": "error",
     "traceback": [
      "TypeError: in Rational, in T, expected T<:Integer, got Type{Any}",
      "",
      "Stacktrace:",
      " [1] top-level scope",
      "   @ In[78]:1",
      " [2] eval",
      "   @ .\\boot.jl:360 [inlined]",
      " [3] include_string(mapexpr::typeof(REPL.softscope), mod::Module, code::String, filename::String)",
      "   @ Base .\\loading.jl:1116"
     ]
    }
   ],
   "source": [
    "Rational{Any}"
   ]
  },
  {
   "cell_type": "code",
   "execution_count": 79,
   "id": "3337af68",
   "metadata": {},
   "outputs": [
    {
     "data": {
      "text/plain": [
       "true"
      ]
     },
     "execution_count": 79,
     "metadata": {},
     "output_type": "execute_result"
    }
   ],
   "source": [
    "\n",
    "Rational{Int32} <: Rational"
   ]
  },
  {
   "cell_type": "code",
   "execution_count": 80,
   "id": "3117d38f",
   "metadata": {},
   "outputs": [
    {
     "data": {
      "text/plain": [
       "false"
      ]
     },
     "execution_count": 80,
     "metadata": {},
     "output_type": "execute_result"
    }
   ],
   "source": [
    "Rational{Int32} <: Rational{Integer}"
   ]
  },
  {
   "cell_type": "code",
   "execution_count": 81,
   "id": "a6b9611f",
   "metadata": {},
   "outputs": [],
   "source": [
    "abstract type ShapeParametric{T<:AbstractFloat} end"
   ]
  },
  {
   "cell_type": "code",
   "execution_count": 82,
   "id": "c1d483ec",
   "metadata": {},
   "outputs": [],
   "source": [
    "struct RectangleParametric{T<:AbstractFloat} <: ShapeParametric{T}\n",
    "     w::T\n",
    "     h::T\n",
    "end\n",
    "struct SquareParametric{T<:AbstractFloat} <: ShapeParametric{T}\n",
    "    s::T\n",
    "end"
   ]
  },
  {
   "cell_type": "code",
   "execution_count": 83,
   "id": "5978390e",
   "metadata": {},
   "outputs": [
    {
     "data": {
      "text/plain": [
       "Point{Float32, 2}(Float32[1.0, 2.0])"
      ]
     },
     "execution_count": 83,
     "metadata": {},
     "output_type": "execute_result"
    }
   ],
   "source": [
    "struct Point{T<:AbstractFloat, N}\n",
    "    x::Vector{T}\n",
    "end\n",
    "p = Point{Float32, 2}([1f0, 2f0])"
   ]
  },
  {
   "cell_type": "markdown",
   "id": "7744d584",
   "metadata": {},
   "source": [
    "# 2.6 Operations on Types\n",
    "# typeof"
   ]
  },
  {
   "cell_type": "code",
   "execution_count": 87,
   "id": "0b831588",
   "metadata": {},
   "outputs": [
    {
     "data": {
      "text/plain": [
       "Rational{Int64}"
      ]
     },
     "execution_count": 87,
     "metadata": {},
     "output_type": "execute_result"
    }
   ],
   "source": [
    "a = 3//7\n",
    "typeof(a)"
   ]
  },
  {
   "cell_type": "code",
   "execution_count": 85,
   "id": "e5728e44",
   "metadata": {},
   "outputs": [
    {
     "data": {
      "text/plain": [
       "DataType"
      ]
     },
     "execution_count": 85,
     "metadata": {},
     "output_type": "execute_result"
    }
   ],
   "source": [
    "typeof(Int)"
   ]
  },
  {
   "cell_type": "code",
   "execution_count": 86,
   "id": "c18a595f",
   "metadata": {},
   "outputs": [
    {
     "data": {
      "text/plain": [
       "DataType"
      ]
     },
     "execution_count": 86,
     "metadata": {},
     "output_type": "execute_result"
    }
   ],
   "source": [
    "typeof(Rational{Int})"
   ]
  },
  {
   "cell_type": "code",
   "execution_count": 88,
   "id": "6886e50c",
   "metadata": {},
   "outputs": [
    {
     "data": {
      "text/plain": [
       "true"
      ]
     },
     "execution_count": 88,
     "metadata": {},
     "output_type": "execute_result"
    }
   ],
   "source": [
    "isa(2, Number)"
   ]
  },
  {
   "cell_type": "code",
   "execution_count": 89,
   "id": "caf23579",
   "metadata": {},
   "outputs": [
    {
     "data": {
      "text/plain": [
       "false"
      ]
     },
     "execution_count": 89,
     "metadata": {},
     "output_type": "execute_result"
    }
   ],
   "source": [
    "isa(2, Matrix)"
   ]
  },
  {
   "cell_type": "code",
   "execution_count": 90,
   "id": "f08c907c",
   "metadata": {},
   "outputs": [
    {
     "data": {
      "text/plain": [
       "true"
      ]
     },
     "execution_count": 90,
     "metadata": {},
     "output_type": "execute_result"
    }
   ],
   "source": [
    "isa(2, Int)"
   ]
  },
  {
   "cell_type": "code",
   "execution_count": 91,
   "id": "f53a5b6d",
   "metadata": {},
   "outputs": [
    {
     "data": {
      "text/plain": [
       "true"
      ]
     },
     "execution_count": 91,
     "metadata": {},
     "output_type": "execute_result"
    }
   ],
   "source": [
    "2 isa Number"
   ]
  },
  {
   "cell_type": "code",
   "execution_count": 92,
   "id": "42ae955c",
   "metadata": {},
   "outputs": [
    {
     "data": {
      "text/plain": [
       "Signed"
      ]
     },
     "execution_count": 92,
     "metadata": {},
     "output_type": "execute_result"
    }
   ],
   "source": [
    "supertype(Int64)"
   ]
  },
  {
   "cell_type": "code",
   "execution_count": 93,
   "id": "401620e5",
   "metadata": {},
   "outputs": [
    {
     "data": {
      "text/plain": [
       "true"
      ]
     },
     "execution_count": 93,
     "metadata": {},
     "output_type": "execute_result"
    }
   ],
   "source": [
    "Int64 <: Integer"
   ]
  },
  {
   "cell_type": "code",
   "execution_count": 94,
   "id": "da8a31bc",
   "metadata": {},
   "outputs": [
    {
     "data": {
      "text/plain": [
       "false"
      ]
     },
     "execution_count": 94,
     "metadata": {},
     "output_type": "execute_result"
    }
   ],
   "source": [
    "Int64 <: AbstractFloat"
   ]
  },
  {
   "cell_type": "code",
   "execution_count": 95,
   "id": "974a677a",
   "metadata": {},
   "outputs": [
    {
     "data": {
      "text/plain": [
       "true"
      ]
     },
     "execution_count": 95,
     "metadata": {},
     "output_type": "execute_result"
    }
   ],
   "source": [
    "Int64 <: Real"
   ]
  },
  {
   "cell_type": "code",
   "execution_count": 96,
   "id": "7288ec05",
   "metadata": {},
   "outputs": [
    {
     "data": {
      "text/plain": [
       "true"
      ]
     },
     "execution_count": 96,
     "metadata": {},
     "output_type": "execute_result"
    }
   ],
   "source": [
    "Int64 <: Signed"
   ]
  },
  {
   "cell_type": "markdown",
   "id": "33cd1e47",
   "metadata": {},
   "source": [
    "# 2.7 Printing Data Types"
   ]
  },
  {
   "cell_type": "code",
   "execution_count": 97,
   "id": "26fc58fb",
   "metadata": {},
   "outputs": [
    {
     "data": {
      "text/plain": [
       "AA(3, 4.0)"
      ]
     },
     "execution_count": 97,
     "metadata": {},
     "output_type": "execute_result"
    }
   ],
   "source": [
    "struct AA\n",
    "    a1::Int32\n",
    "    a2::Float64\n",
    "end\n",
    "a = AA(3, 4)"
   ]
  },
  {
   "cell_type": "code",
   "execution_count": 98,
   "id": "6c963579",
   "metadata": {},
   "outputs": [],
   "source": [
    "a;"
   ]
  },
  {
   "cell_type": "code",
   "execution_count": 99,
   "id": "41092c16",
   "metadata": {},
   "outputs": [
    {
     "data": {
      "text/plain": [
       "AA(3, 4.0)"
      ]
     },
     "execution_count": 99,
     "metadata": {},
     "output_type": "execute_result"
    }
   ],
   "source": [
    "a"
   ]
  },
  {
   "cell_type": "code",
   "execution_count": 100,
   "id": "7d1b5e67",
   "metadata": {},
   "outputs": [
    {
     "data": {
      "text/plain": [
       "10"
      ]
     },
     "execution_count": 100,
     "metadata": {},
     "output_type": "execute_result"
    }
   ],
   "source": [
    "b"
   ]
  },
  {
   "cell_type": "code",
   "execution_count": 101,
   "id": "b3d5a601",
   "metadata": {},
   "outputs": [
    {
     "data": {
      "text/plain": [
       "10"
      ]
     },
     "execution_count": 101,
     "metadata": {},
     "output_type": "execute_result"
    }
   ],
   "source": [
    "a;b"
   ]
  },
  {
   "cell_type": "code",
   "execution_count": 102,
   "id": "eee285d0",
   "metadata": {},
   "outputs": [
    {
     "data": {
      "text/plain": [
       "AA(3, 4.0)"
      ]
     },
     "execution_count": 102,
     "metadata": {},
     "output_type": "execute_result"
    }
   ],
   "source": [
    "a"
   ]
  },
  {
   "cell_type": "code",
   "execution_count": 103,
   "id": "d5f37278",
   "metadata": {},
   "outputs": [],
   "source": [
    "a;"
   ]
  },
  {
   "cell_type": "code",
   "execution_count": 104,
   "id": "4289c2be",
   "metadata": {},
   "outputs": [],
   "source": [
    "a;nothing"
   ]
  },
  {
   "cell_type": "code",
   "execution_count": 105,
   "id": "61a15a73",
   "metadata": {},
   "outputs": [
    {
     "data": {
      "text/plain": [
       "AAA(5, 6.0)"
      ]
     },
     "execution_count": 105,
     "metadata": {},
     "output_type": "execute_result"
    }
   ],
   "source": [
    "struct AAA\n",
    "    a1::Int32\n",
    "    a2::Float64\n",
    "end\n",
    "a = AAA(5, 6)"
   ]
  },
  {
   "cell_type": "code",
   "execution_count": 106,
   "id": "b601f436",
   "metadata": {},
   "outputs": [],
   "source": [
    "function Base.show(io::IO, a::AAA)\n",
    "    println(io, \"a1: \", a.a1, \" a2: \", a.a2)\n",
    "end"
   ]
  },
  {
   "cell_type": "code",
   "execution_count": 107,
   "id": "f11228e0",
   "metadata": {},
   "outputs": [
    {
     "data": {
      "text/plain": [
       "a1: 5 a2: 6.0\n"
      ]
     },
     "execution_count": 107,
     "metadata": {},
     "output_type": "execute_result"
    }
   ],
   "source": [
    "a"
   ]
  },
  {
   "cell_type": "code",
   "execution_count": 108,
   "id": "de0b10c8",
   "metadata": {},
   "outputs": [
    {
     "name": "stdout",
     "output_type": "stream",
     "text": [
      "a1: 5 a2: 6.0\n"
     ]
    }
   ],
   "source": [
    "print(a)"
   ]
  },
  {
   "cell_type": "code",
   "execution_count": 109,
   "id": "29e1dd2b",
   "metadata": {},
   "outputs": [
    {
     "data": {
      "text/plain": [
       "\"a1: 5 a2: 6.0\\n\""
      ]
     },
     "execution_count": 109,
     "metadata": {},
     "output_type": "execute_result"
    }
   ],
   "source": [
    "string(a)"
   ]
  }
 ],
 "metadata": {
  "kernelspec": {
   "display_name": "Julia 1.6.7",
   "language": "julia",
   "name": "julia-1.6"
  },
  "language_info": {
   "file_extension": ".jl",
   "mimetype": "application/julia",
   "name": "julia",
   "version": "1.6.7"
  }
 },
 "nbformat": 4,
 "nbformat_minor": 5
}
