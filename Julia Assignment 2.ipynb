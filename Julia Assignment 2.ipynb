{
 "cells": [
  {
   "cell_type": "markdown",
   "id": "9575222c",
   "metadata": {},
   "source": [
    "# 3.1 Compound Statements\n",
    "# begin…end"
   ]
  },
  {
   "cell_type": "code",
   "execution_count": 1,
   "id": "fa7d3bcf",
   "metadata": {},
   "outputs": [
    {
     "data": {
      "text/plain": [
       "7"
      ]
     },
     "execution_count": 1,
     "metadata": {},
     "output_type": "execute_result"
    }
   ],
   "source": [
    "z = begin\n",
    "    x = 3\n",
    "    y = 4\n",
    "    x + y\n",
    "end"
   ]
  },
  {
   "cell_type": "code",
   "execution_count": 2,
   "id": "e521e9ba",
   "metadata": {},
   "outputs": [
    {
     "data": {
      "text/plain": [
       "7"
      ]
     },
     "execution_count": 2,
     "metadata": {},
     "output_type": "execute_result"
    }
   ],
   "source": [
    "z = (x = 3; y = 4; x+y)"
   ]
  },
  {
   "cell_type": "code",
   "execution_count": 3,
   "id": "f7aa139a",
   "metadata": {},
   "outputs": [
    {
     "data": {
      "text/plain": [
       "7"
      ]
     },
     "execution_count": 3,
     "metadata": {},
     "output_type": "execute_result"
    }
   ],
   "source": [
    "z =(x = 3;\n",
    "    y = 4;\n",
    "    x + y)"
   ]
  },
  {
   "cell_type": "code",
   "execution_count": 4,
   "id": "81292e16",
   "metadata": {},
   "outputs": [
    {
     "data": {
      "text/plain": [
       "7"
      ]
     },
     "execution_count": 4,
     "metadata": {},
     "output_type": "execute_result"
    }
   ],
   "source": [
    "z = begin x=3; y=4; x+y end"
   ]
  },
  {
   "cell_type": "markdown",
   "id": "55742a83",
   "metadata": {},
   "source": [
    "# 3.2 Conditional Execution\n",
    "# if...else"
   ]
  },
  {
   "cell_type": "code",
   "execution_count": 5,
   "id": "c1033303",
   "metadata": {},
   "outputs": [
    {
     "ename": "LoadError",
     "evalue": "TypeError: non-boolean (Int64) used in boolean context",
     "output_type": "error",
     "traceback": [
      "TypeError: non-boolean (Int64) used in boolean context",
      "",
      "Stacktrace:",
      " [1] top-level scope",
      "   @ In[5]:1",
      " [2] eval",
      "   @ .\\boot.jl:360 [inlined]",
      " [3] include_string(mapexpr::typeof(REPL.softscope), mod::Module, code::String, filename::String)",
      "   @ Base .\\loading.jl:1116"
     ]
    }
   ],
   "source": [
    "if 1\n",
    "    println(\"How are you\")\n",
    "end"
   ]
  },
  {
   "cell_type": "code",
   "execution_count": 7,
   "id": "7b2c5e0a",
   "metadata": {},
   "outputs": [
    {
     "name": "stdout",
     "output_type": "stream",
     "text": [
      "How are you\n"
     ]
    }
   ],
   "source": [
    "if Bool(1)\n",
    "    println(\"How are you\")\n",
    "end"
   ]
  },
  {
   "cell_type": "code",
   "execution_count": 8,
   "id": "5aaa45f4",
   "metadata": {},
   "outputs": [
    {
     "data": {
      "text/plain": [
       "\"Less\""
      ]
     },
     "execution_count": 8,
     "metadata": {},
     "output_type": "execute_result"
    }
   ],
   "source": [
    "i = 1\n",
    "str = if i > 1\n",
    "    \"Greater\"\n",
    "else\n",
    "    \"Less\"\n",
    "end"
   ]
  },
  {
   "cell_type": "code",
   "execution_count": 9,
   "id": "8ae583a1",
   "metadata": {},
   "outputs": [
    {
     "data": {
      "text/plain": [
       "\"Less\""
      ]
     },
     "execution_count": 9,
     "metadata": {},
     "output_type": "execute_result"
    }
   ],
   "source": [
    "str = i > 1 ? \"Greater\" : \"Less\""
   ]
  },
  {
   "cell_type": "code",
   "execution_count": 10,
   "id": "ff00b432",
   "metadata": {},
   "outputs": [
    {
     "ename": "LoadError",
     "evalue": "syntax: space required before \"?\" operator",
     "output_type": "error",
     "traceback": [
      "syntax: space required before \"?\" operator",
      "",
      "Stacktrace:",
      " [1] top-level scope",
      "   @ In[10]:1",
      " [2] eval",
      "   @ .\\boot.jl:360 [inlined]",
      " [3] include_string(mapexpr::typeof(REPL.softscope), mod::Module, code::String, filename::String)",
      "   @ Base .\\loading.jl:1116"
     ]
    }
   ],
   "source": [
    "str = i > 1? \"Greater\" : \"Less\""
   ]
  },
  {
   "cell_type": "code",
   "execution_count": 11,
   "id": "fe395edf",
   "metadata": {},
   "outputs": [
    {
     "data": {
      "text/plain": [
       "\"three\""
      ]
     },
     "execution_count": 11,
     "metadata": {},
     "output_type": "execute_result"
    }
   ],
   "source": [
    "val = 3\n",
    "if val == 1\n",
    "    \"one\"\n",
    "elseif val == 2\n",
    "    \"two\"\n",
    "elseif val == 3\n",
    "    \"three\"\n",
    "elseif val == 4\n",
    "    \"four\"\n",
    "else\n",
    "    \"unknown\"\n",
    "end"
   ]
  },
  {
   "cell_type": "markdown",
   "id": "5a3b6e49",
   "metadata": {},
   "source": [
    "# else if vs. elseif"
   ]
  },
  {
   "cell_type": "code",
   "execution_count": 12,
   "id": "075ad967",
   "metadata": {},
   "outputs": [
    {
     "data": {
      "text/plain": [
       "\"three\""
      ]
     },
     "execution_count": 12,
     "metadata": {},
     "output_type": "execute_result"
    }
   ],
   "source": [
    "if val == 1\n",
    "    \"one\"\n",
    "elseif val == 2\n",
    "    \"two\"\n",
    "elseif val == 3\n",
    "    \"three\"\n",
    "elseif val == 4\n",
    "    \"four\"\n",
    "else\n",
    "    if val >= 5\n",
    "        \"above five\"\n",
    "    else\n",
    "        \"below five\"\n",
    "    end\n",
    "end"
   ]
  },
  {
   "cell_type": "markdown",
   "id": "1360f574",
   "metadata": {},
   "source": [
    "# Unstructured Branching# "
   ]
  },
  {
   "cell_type": "code",
   "execution_count": 14,
   "id": "87bbee22",
   "metadata": {},
   "outputs": [
    {
     "data": {
      "text/plain": [
       "210"
      ]
     },
     "execution_count": 14,
     "metadata": {},
     "output_type": "execute_result"
    }
   ],
   "source": [
    "begin\n",
    "    s = 0\n",
    "    n = 20\n",
    "@label loop\n",
    "    s = s + n\n",
    "    n = n - 1\n",
    "    if n > 0\n",
    "        @goto loop\n",
    "    end\n",
    "    s\n",
    "end"
   ]
  },
  {
   "cell_type": "code",
   "execution_count": 15,
   "id": "35f07dfc",
   "metadata": {},
   "outputs": [
    {
     "data": {
      "text/plain": [
       "210"
      ]
     },
     "execution_count": 15,
     "metadata": {},
     "output_type": "execute_result"
    }
   ],
   "source": [
    "s = 0\n",
    "for i = 1:20\n",
    "    s = s + i\n",
    "end\n",
    "s"
   ]
  },
  {
   "cell_type": "markdown",
   "id": "7d5e001b",
   "metadata": {},
   "source": [
    "# 3.3 Iterative Execution"
   ]
  },
  {
   "cell_type": "code",
   "execution_count": 16,
   "id": "9ac3cb08",
   "metadata": {},
   "outputs": [
    {
     "data": {
      "text/plain": [
       "210"
      ]
     },
     "execution_count": 16,
     "metadata": {},
     "output_type": "execute_result"
    }
   ],
   "source": [
    "s = 0\n",
    "for i = 1:20\n",
    "    s = s + i\n",
    "end\n",
    "s"
   ]
  },
  {
   "cell_type": "code",
   "execution_count": 17,
   "id": "c239eee1",
   "metadata": {},
   "outputs": [
    {
     "name": "stdout",
     "output_type": "stream",
     "text": [
      "1\n",
      "3\n",
      "5\n",
      "7\n",
      "9\n",
      "11\n",
      "13\n",
      "15\n",
      "17\n",
      "19\n"
     ]
    },
    {
     "data": {
      "text/plain": [
       "100"
      ]
     },
     "execution_count": 17,
     "metadata": {},
     "output_type": "execute_result"
    }
   ],
   "source": [
    "s = 0;\n",
    "for i = 1:2:20\n",
    "    println(i)\n",
    "    s = s + i\n",
    "end\n",
    "s"
   ]
  },
  {
   "cell_type": "markdown",
   "id": "e920b60d",
   "metadata": {},
   "source": [
    "# continue and break"
   ]
  },
  {
   "cell_type": "code",
   "execution_count": 18,
   "id": "3ad65f3f",
   "metadata": {},
   "outputs": [
    {
     "name": "stdout",
     "output_type": "stream",
     "text": [
      "1\n",
      "2\n",
      "3\n",
      "5\n",
      "6\n",
      "7\n",
      "9\n",
      "10\n",
      "11\n",
      "13\n",
      "14\n",
      "15\n",
      "17\n",
      "18\n",
      "19\n"
     ]
    },
    {
     "data": {
      "text/plain": [
       "150"
      ]
     },
     "execution_count": 18,
     "metadata": {},
     "output_type": "execute_result"
    }
   ],
   "source": [
    "s = 0;\n",
    "for i = 1:20\n",
    "    if i % 4 == 0\n",
    "        continue\n",
    "    end\n",
    "    println(i)\n",
    "    s = s + i\n",
    "end\n",
    "s"
   ]
  },
  {
   "cell_type": "code",
   "execution_count": 19,
   "id": "ab8119bd",
   "metadata": {},
   "outputs": [
    {
     "name": "stdout",
     "output_type": "stream",
     "text": [
      "1\n",
      "2\n",
      "3\n"
     ]
    },
    {
     "data": {
      "text/plain": [
       "6"
      ]
     },
     "execution_count": 19,
     "metadata": {},
     "output_type": "execute_result"
    }
   ],
   "source": [
    "s = 0;\n",
    "for i = 1:20\n",
    "    if i % 4 == 0\n",
    "        break\n",
    "    end\n",
    "    println(i)\n",
    "    s = s + i\n",
    "end\n",
    "s"
   ]
  },
  {
   "cell_type": "markdown",
   "id": "a3e0ab3a",
   "metadata": {},
   "source": [
    "# for…in"
   ]
  },
  {
   "cell_type": "code",
   "execution_count": 20,
   "id": "a8e2c790",
   "metadata": {},
   "outputs": [
    {
     "name": "stdout",
     "output_type": "stream",
     "text": [
      "15\n",
      "30\n",
      "45\n"
     ]
    }
   ],
   "source": [
    "for i in [15 30 45]\n",
    "    println(i)\n",
    "end"
   ]
  },
  {
   "cell_type": "markdown",
   "id": "3840b52f",
   "metadata": {},
   "source": [
    "# Multiple Range Objects"
   ]
  },
  {
   "cell_type": "code",
   "execution_count": 21,
   "id": "93a2542f",
   "metadata": {},
   "outputs": [
    {
     "name": "stdout",
     "output_type": "stream",
     "text": [
      "(2, 2)\n",
      "(2, 3)\n",
      "(3, 2)\n",
      "(3, 3)\n"
     ]
    }
   ],
   "source": [
    "for i=2:3, j=2:3\n",
    "    println((i, j))\n",
    "end"
   ]
  },
  {
   "cell_type": "code",
   "execution_count": 22,
   "id": "3878a35a",
   "metadata": {},
   "outputs": [
    {
     "name": "stdout",
     "output_type": "stream",
     "text": [
      "(2, 1)\n",
      "(2, 2)\n",
      "(3, 1)\n",
      "(3, 2)\n",
      "(3, 3)\n"
     ]
    }
   ],
   "source": [
    "for i=2:3, j=1:i\n",
    "    println((i, j))\n",
    "end"
   ]
  },
  {
   "cell_type": "code",
   "execution_count": 23,
   "id": "9c584c2e",
   "metadata": {},
   "outputs": [
    {
     "name": "stdout",
     "output_type": "stream",
     "text": [
      "(2, 2)\n"
     ]
    }
   ],
   "source": [
    "for i=2:3, j=2:4\n",
    "    println((i, j))\n",
    "    if i == j\n",
    "        break\n",
    "    end\n",
    "end"
   ]
  },
  {
   "cell_type": "code",
   "execution_count": 24,
   "id": "e29e617c",
   "metadata": {},
   "outputs": [
    {
     "name": "stdout",
     "output_type": "stream",
     "text": [
      "(2, 2)\n",
      "(3, 2)\n",
      "(3, 3)\n"
     ]
    }
   ],
   "source": [
    "for i=2:3\n",
    "    for j=2:3\n",
    "        println((i, j))\n",
    "        if i == j\n",
    "            break\n",
    "        end\n",
    "    end\n",
    "end"
   ]
  },
  {
   "cell_type": "markdown",
   "id": "b072c087",
   "metadata": {},
   "source": [
    "# while"
   ]
  },
  {
   "cell_type": "code",
   "execution_count": 25,
   "id": "7d22d18f",
   "metadata": {},
   "outputs": [
    {
     "data": {
      "text/plain": [
       "465"
      ]
     },
     "execution_count": 25,
     "metadata": {},
     "output_type": "execute_result"
    }
   ],
   "source": [
    "s, n = 0, 30;\n",
    "while n > 0\n",
    "    s = s + n\n",
    "    n = n - 1\n",
    "end\n",
    "s"
   ]
  },
  {
   "cell_type": "markdown",
   "id": "54131828",
   "metadata": {},
   "source": [
    "# 3.4 Exception Handling \n",
    "# try...catch"
   ]
  },
  {
   "cell_type": "code",
   "execution_count": 26,
   "id": "f2ba2d3c",
   "metadata": {},
   "outputs": [
    {
     "name": "stdout",
     "output_type": "stream",
     "text": [
      "DomainError(-1.0, \"sqrt will only return a complex result if called with a complex argument. Try sqrt(Complex(x)).\")\n"
     ]
    }
   ],
   "source": [
    "try\n",
    "    sqrt(-1)\n",
    "catch e\n",
    "    println(e)\n",
    "end\n"
   ]
  },
  {
   "cell_type": "code",
   "execution_count": 27,
   "id": "39e8f8d2",
   "metadata": {},
   "outputs": [
    {
     "ename": "LoadError",
     "evalue": "DomainError with -1.0:\nsqrt will only return a complex result if called with a complex argument. Try sqrt(Complex(x)).",
     "output_type": "error",
     "traceback": [
      "DomainError with -1.0:\nsqrt will only return a complex result if called with a complex argument. Try sqrt(Complex(x)).",
      "",
      "Stacktrace:",
      " [1] throw_complex_domainerror(f::Symbol, x::Float64)",
      "   @ Base.Math .\\math.jl:33",
      " [2] sqrt",
      "   @ .\\math.jl:582 [inlined]",
      " [3] sqrt(x::Int64)",
      "   @ Base.Math .\\math.jl:608",
      " [4] top-level scope",
      "   @ In[27]:1",
      " [5] eval",
      "   @ .\\boot.jl:360 [inlined]",
      " [6] include_string(mapexpr::typeof(REPL.softscope), mod::Module, code::String, filename::String)",
      "   @ Base .\\loading.jl:1116"
     ]
    }
   ],
   "source": [
    "sqrt(-1)"
   ]
  },
  {
   "cell_type": "code",
   "execution_count": 28,
   "id": "64969536",
   "metadata": {},
   "outputs": [
    {
     "ename": "LoadError",
     "evalue": "DomainError with -1.0:\nsqrt will only return a complex result if called with a complex argument. Try sqrt(Complex(x)).",
     "output_type": "error",
     "traceback": [
      "DomainError with -1.0:\nsqrt will only return a complex result if called with a complex argument. Try sqrt(Complex(x)).",
      "",
      "Stacktrace:",
      " [1] throw_complex_domainerror(f::Symbol, x::Float64)",
      "   @ Base.Math .\\math.jl:33",
      " [2] sqrt",
      "   @ .\\math.jl:582 [inlined]",
      " [3] sqrt(x::Int64)",
      "   @ Base.Math .\\math.jl:608",
      " [4] top-level scope",
      "   @ In[28]:2",
      " [5] eval",
      "   @ .\\boot.jl:360 [inlined]",
      " [6] include_string(mapexpr::typeof(REPL.softscope), mod::Module, code::String, filename::String)",
      "   @ Base .\\loading.jl:1116"
     ]
    }
   ],
   "source": [
    "try \n",
    "    sqrt(-1)\n",
    "catch e\n",
    "    rethrow()\n",
    "end"
   ]
  },
  {
   "cell_type": "code",
   "execution_count": 29,
   "id": "2d957cce",
   "metadata": {},
   "outputs": [
    {
     "name": "stdout",
     "output_type": "stream",
     "text": [
      "Int64\n"
     ]
    }
   ],
   "source": [
    "try\n",
    "    throw(1)\n",
    "catch e\n",
    "    println(typeof(e))\n",
    "end"
   ]
  },
  {
   "cell_type": "markdown",
   "id": "a24bd9c7",
   "metadata": {},
   "source": [
    "# Information from Exceptions "
   ]
  },
  {
   "cell_type": "code",
   "execution_count": 30,
   "id": "61bb6a9b",
   "metadata": {},
   "outputs": [
    {
     "ename": "LoadError",
     "evalue": "DomainError with -1.0:\nsqrt will only return a complex result if called with a complex argument. Try sqrt(Complex(x)).",
     "output_type": "error",
     "traceback": [
      "DomainError with -1.0:\nsqrt will only return a complex result if called with a complex argument. Try sqrt(Complex(x)).",
      "",
      "Stacktrace:",
      " [1] throw_complex_domainerror(f::Symbol, x::Float64)",
      "   @ Base.Math .\\math.jl:33",
      " [2] sqrt",
      "   @ .\\math.jl:582 [inlined]",
      " [3] sqrt(x::Int64)",
      "   @ Base.Math .\\math.jl:608",
      " [4] top-level scope",
      "   @ In[30]:1",
      " [5] eval",
      "   @ .\\boot.jl:360 [inlined]",
      " [6] include_string(mapexpr::typeof(REPL.softscope), mod::Module, code::String, filename::String)",
      "   @ Base .\\loading.jl:1116"
     ]
    }
   ],
   "source": [
    "sqrt(-1)"
   ]
  },
  {
   "cell_type": "code",
   "execution_count": 31,
   "id": "e44df1ad",
   "metadata": {},
   "outputs": [
    {
     "data": {
      "text/plain": [
       "12-element Vector{Base.StackTraces.StackFrame}:\n",
       " throw_complex_domainerror(f::\u001b[0mSymbol, x::\u001b[0mFloat64) at math.jl:33\n",
       " sqrt at math.jl:582 [inlined]\n",
       " sqrt(x::\u001b[0mInt64) at math.jl:608\n",
       " top-level scope at In[31]:2\n",
       " eval at boot.jl:360 [inlined]\n",
       " include_string(mapexpr::\u001b[0mtypeof(REPL.softscope), mod::\u001b[0mModule, code::\u001b[0mString, filename::\u001b[0mString) at loading.jl:1116\n",
       " softscope_include_string(m::\u001b[0mModule, code::\u001b[0mString, filename::\u001b[0mString) at SoftGlobalScope.jl:65\n",
       " execute_request(socket::\u001b[0mZMQ.Socket, msg::\u001b[0mIJulia.Msg) at execute_request.jl:67\n",
       " #invokelatest#2 at essentials.jl:708 [inlined]\n",
       " invokelatest at essentials.jl:706 [inlined]\n",
       " eventloop(socket::\u001b[0mZMQ.Socket) at eventloop.jl:8\n",
       " (::IJulia.var\"#15#18\")() at task.jl:417"
      ]
     },
     "execution_count": 31,
     "metadata": {},
     "output_type": "execute_result"
    }
   ],
   "source": [
    "try\n",
    "    sqrt(-1)\n",
    "catch e\n",
    "    stacktrace(catch_backtrace())\n",
    "end"
   ]
  }
 ],
 "metadata": {
  "kernelspec": {
   "display_name": "Julia 1.6.7",
   "language": "julia",
   "name": "julia-1.6"
  },
  "language_info": {
   "file_extension": ".jl",
   "mimetype": "application/julia",
   "name": "julia",
   "version": "1.6.7"
  }
 },
 "nbformat": 4,
 "nbformat_minor": 5
}
