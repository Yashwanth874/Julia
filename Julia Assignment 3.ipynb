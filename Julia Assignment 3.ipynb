{
 "cells": [
  {
   "cell_type": "markdown",
   "id": "191c2207",
   "metadata": {},
   "source": [
    "# Chapter-4 Functions and Methods"
   ]
  },
  {
   "cell_type": "code",
   "execution_count": 1,
   "id": "88707900",
   "metadata": {},
   "outputs": [
    {
     "name": "stderr",
     "output_type": "stream",
     "text": [
      "\u001b[32m\u001b[1m  Activating\u001b[22m\u001b[39m new environment at `C:\\Users\\Yashwanth\\Untitled Folder\\Project.toml`\n",
      "\u001b[32m\u001b[1m  No Changes\u001b[22m\u001b[39m to `C:\\Users\\Yashwanth\\Untitled Folder\\Project.toml`\n",
      "\u001b[32m\u001b[1m  No Changes\u001b[22m\u001b[39m to `C:\\Users\\Yashwanth\\Untitled Folder\\Manifest.toml`\n"
     ]
    }
   ],
   "source": [
    "using Pkg\n",
    "pkg\"activate .\"\n",
    "pkg\"instantiate\""
   ]
  },
  {
   "cell_type": "markdown",
   "id": "b4011170",
   "metadata": {},
   "source": [
    "# 4.1 \n",
    "# 8-Queens Problem"
   ]
  },
  {
   "cell_type": "code",
   "execution_count": 14,
   "id": "838b43e9",
   "metadata": {},
   "outputs": [
    {
     "data": {
      "text/plain": [
       "attacks (generic function with 1 method)"
      ]
     },
     "execution_count": 14,
     "metadata": {},
     "output_type": "execute_result"
    }
   ],
   "source": [
    "function attacks(S1, T1, S2, T2)\n",
    "    if S1 == S2\n",
    "        return true\n",
    "    elseif T1 == T2\n",
    "        return true\n",
    "    elseif S1 - T1 == S2 - T2\n",
    "        return true\n",
    "    elseif S1 + T1 == S2 + T2\n",
    "        return true\n",
    "    else\n",
    "        return false\n",
    "    end\n",
    "end"
   ]
  },
  {
   "cell_type": "code",
   "execution_count": 15,
   "id": "7d700098",
   "metadata": {},
   "outputs": [
    {
     "data": {
      "text/plain": [
       "true"
      ]
     },
     "execution_count": 15,
     "metadata": {},
     "output_type": "execute_result"
    }
   ],
   "source": [
    "attacks(2,3,6,7)"
   ]
  },
  {
   "cell_type": "code",
   "execution_count": 16,
   "id": "fa827622",
   "metadata": {},
   "outputs": [
    {
     "data": {
      "text/plain": [
       "false"
      ]
     },
     "execution_count": 16,
     "metadata": {},
     "output_type": "execute_result"
    }
   ],
   "source": [
    "attacks(2, 4, 6, 7)"
   ]
  },
  {
   "cell_type": "markdown",
   "id": "62b6e8a7",
   "metadata": {},
   "source": [
    "# Operators"
   ]
  },
  {
   "cell_type": "code",
   "execution_count": 17,
   "id": "0d341a4e",
   "metadata": {},
   "outputs": [
    {
     "data": {
      "text/plain": [
       "attacks (generic function with 1 method)"
      ]
     },
     "execution_count": 17,
     "metadata": {},
     "output_type": "execute_result"
    }
   ],
   "source": [
    "function attacks(S1, T1, S2, T2)\n",
    "    return S1 == S2 || T1 == T2 || S1 - T1 == S2 - T2 || S1 + T1 == S2 + T2\n",
    "end"
   ]
  },
  {
   "cell_type": "markdown",
   "id": "0e6553ed",
   "metadata": {},
   "source": [
    "# 4.2 Short Form"
   ]
  },
  {
   "cell_type": "code",
   "execution_count": 18,
   "id": "cc7aab08",
   "metadata": {},
   "outputs": [
    {
     "data": {
      "text/plain": [
       "attacks (generic function with 1 method)"
      ]
     },
     "execution_count": 18,
     "metadata": {},
     "output_type": "execute_result"
    }
   ],
   "source": [
    "function attacks(S1, T1, S2, T2)\n",
    "    S1 == S2 || T1 == T2 || S1 - T1 == S2 - T2 || S1 + T1 == S2 + T2\n",
    "end"
   ]
  },
  {
   "cell_type": "code",
   "execution_count": 19,
   "id": "beb87c78",
   "metadata": {},
   "outputs": [
    {
     "data": {
      "text/plain": [
       "attacks (generic function with 1 method)"
      ]
     },
     "execution_count": 19,
     "metadata": {},
     "output_type": "execute_result"
    }
   ],
   "source": [
    "attacks(S1, T1, S2, T2) = (S1 == S2 || T1 == T2 || S1 - T1 == S2 - T2 || S1 + T1 == S2 )"
   ]
  },
  {
   "cell_type": "code",
   "execution_count": 20,
   "id": "01cf9e67",
   "metadata": {},
   "outputs": [
    {
     "data": {
      "text/plain": [
       "attacks (generic function with 1 method)"
      ]
     },
     "execution_count": 20,
     "metadata": {},
     "output_type": "execute_result"
    }
   ],
   "source": [
    "attacks(S1, T1, S2, T2) = begin       # This is discouraged due to readability \n",
    "    if S1 == S2\n",
    "        return true\n",
    "    elseif T1 == T2\n",
    "        return true\n",
    "    elseif S1 - T1 == S2 - T2\n",
    "        return true\n",
    "    elseif S1 + T1 == S2 + T2\n",
    "        return true\n",
    "    else\n",
    "        return false\n",
    "    end\n",
    "end"
   ]
  },
  {
   "cell_type": "markdown",
   "id": "ae110eff",
   "metadata": {},
   "source": [
    "# Anonymous Functions"
   ]
  },
  {
   "cell_type": "code",
   "execution_count": 21,
   "id": "cf98f684",
   "metadata": {},
   "outputs": [
    {
     "data": {
      "text/plain": [
       "#1 (generic function with 1 method)"
      ]
     },
     "execution_count": 21,
     "metadata": {},
     "output_type": "execute_result"
    }
   ],
   "source": [
    "attacks_var = (S1, T1, S2, T2)->(S1 == S2 || T1 == T2 || S1 - T1 == S2 - T2 || S1 + T1)"
   ]
  },
  {
   "cell_type": "code",
   "execution_count": 25,
   "id": "77b9bb3a",
   "metadata": {},
   "outputs": [
    {
     "data": {
      "text/plain": [
       "true"
      ]
     },
     "execution_count": 25,
     "metadata": {},
     "output_type": "execute_result"
    }
   ],
   "source": [
    "attacks_var(1,3,5,7)"
   ]
  },
  {
   "cell_type": "markdown",
   "id": "b5d76e31",
   "metadata": {},
   "source": [
    "# 4.3 Input Arguments\n",
    "# Fixed Arguments"
   ]
  },
  {
   "cell_type": "code",
   "execution_count": 26,
   "id": "0025e4d2",
   "metadata": {},
   "outputs": [
    {
     "ename": "LoadError",
     "evalue": "MethodError: no method matching attacks(::Int64, ::Int64, ::Int64, ::Int64, ::Int64)\n\u001b[0mClosest candidates are:\n\u001b[0m  attacks(::Any, ::Any, ::Any, ::Any) at In[20]:1",
     "output_type": "error",
     "traceback": [
      "MethodError: no method matching attacks(::Int64, ::Int64, ::Int64, ::Int64, ::Int64)\n\u001b[0mClosest candidates are:\n\u001b[0m  attacks(::Any, ::Any, ::Any, ::Any) at In[20]:1",
      "",
      "Stacktrace:",
      " [1] top-level scope",
      "   @ In[26]:1",
      " [2] eval",
      "   @ .\\boot.jl:360 [inlined]",
      " [3] include_string(mapexpr::typeof(REPL.softscope), mod::Module, code::String, filename::String)",
      "   @ Base .\\loading.jl:1116"
     ]
    }
   ],
   "source": [
    "attacks(1, 2, 3, 4, 5)"
   ]
  },
  {
   "cell_type": "code",
   "execution_count": 27,
   "id": "5caf4e19",
   "metadata": {},
   "outputs": [
    {
     "ename": "LoadError",
     "evalue": "MethodError: no method matching attacks(::Int64, ::Int64, ::Int64)\n\u001b[0mClosest candidates are:\n\u001b[0m  attacks(::Any, ::Any, ::Any, \u001b[91m::Any\u001b[39m) at In[20]:1",
     "output_type": "error",
     "traceback": [
      "MethodError: no method matching attacks(::Int64, ::Int64, ::Int64)\n\u001b[0mClosest candidates are:\n\u001b[0m  attacks(::Any, ::Any, ::Any, \u001b[91m::Any\u001b[39m) at In[20]:1",
      "",
      "Stacktrace:",
      " [1] top-level scope",
      "   @ In[27]:1",
      " [2] eval",
      "   @ .\\boot.jl:360 [inlined]",
      " [3] include_string(mapexpr::typeof(REPL.softscope), mod::Module, code::String, filename::String)",
      "   @ Base .\\loading.jl:1116"
     ]
    }
   ],
   "source": [
    "attacks(1, 2, 3)"
   ]
  },
  {
   "cell_type": "code",
   "execution_count": 29,
   "id": "57f6389e",
   "metadata": {},
   "outputs": [
    {
     "data": {
      "text/plain": [
       "hello_world (generic function with 1 method)"
      ]
     },
     "execution_count": 29,
     "metadata": {},
     "output_type": "execute_result"
    }
   ],
   "source": [
    "function hello_world()\n",
    "    println(\"Hello World\")\n",
    "end"
   ]
  },
  {
   "cell_type": "code",
   "execution_count": 30,
   "id": "ea5ccf93",
   "metadata": {},
   "outputs": [
    {
     "name": "stdout",
     "output_type": "stream",
     "text": [
      "Hello World\n"
     ]
    }
   ],
   "source": [
    "hello_world()"
   ]
  },
  {
   "cell_type": "markdown",
   "id": "a68bc65a",
   "metadata": {},
   "source": [
    "# Variable Arguments\n",
    "# Functions can be variable sized arguments."
   ]
  },
  {
   "cell_type": "code",
   "execution_count": 31,
   "id": "cc03f7fe",
   "metadata": {},
   "outputs": [
    {
     "data": {
      "text/plain": [
       "mysum (generic function with 1 method)"
      ]
     },
     "execution_count": 31,
     "metadata": {},
     "output_type": "execute_result"
    }
   ],
   "source": [
    "mysum(s, t...) = s + mysum(t...)"
   ]
  },
  {
   "cell_type": "code",
   "execution_count": 32,
   "id": "d8d8cf13",
   "metadata": {},
   "outputs": [
    {
     "data": {
      "text/plain": [
       "mysum (generic function with 2 methods)"
      ]
     },
     "execution_count": 32,
     "metadata": {},
     "output_type": "execute_result"
    }
   ],
   "source": [
    "mysum(s) = s"
   ]
  },
  {
   "cell_type": "code",
   "execution_count": 33,
   "id": "ceb714bb",
   "metadata": {},
   "outputs": [
    {
     "data": {
      "text/plain": [
       "9"
      ]
     },
     "execution_count": 33,
     "metadata": {},
     "output_type": "execute_result"
    }
   ],
   "source": [
    "mysum(4,5)"
   ]
  },
  {
   "cell_type": "code",
   "execution_count": 34,
   "id": "1f39bf21",
   "metadata": {},
   "outputs": [
    {
     "data": {
      "text/plain": [
       "20"
      ]
     },
     "execution_count": 34,
     "metadata": {},
     "output_type": "execute_result"
    }
   ],
   "source": [
    "mysum(4, 7, 9)"
   ]
  },
  {
   "cell_type": "code",
   "execution_count": 35,
   "id": "c5f9b258",
   "metadata": {},
   "outputs": [
    {
     "data": {
      "text/plain": [
       "56"
      ]
     },
     "execution_count": 35,
     "metadata": {},
     "output_type": "execute_result"
    }
   ],
   "source": [
    "mysum(2, 4, 6, 8, 10, 12, 14)"
   ]
  },
  {
   "cell_type": "code",
   "execution_count": 36,
   "id": "b91c1162",
   "metadata": {},
   "outputs": [
    {
     "data": {
      "text/plain": [
       "mymax (generic function with 1 method)"
      ]
     },
     "execution_count": 36,
     "metadata": {},
     "output_type": "execute_result"
    }
   ],
   "source": [
    "mymax(s, t...) = mymax(s, mymax(t...))"
   ]
  },
  {
   "cell_type": "code",
   "execution_count": 37,
   "id": "4321b386",
   "metadata": {},
   "outputs": [
    {
     "data": {
      "text/plain": [
       "mymax (generic function with 2 methods)"
      ]
     },
     "execution_count": 37,
     "metadata": {},
     "output_type": "execute_result"
    }
   ],
   "source": [
    "mymax(s, t) = s > t ? s : t"
   ]
  },
  {
   "cell_type": "code",
   "execution_count": 38,
   "id": "bf6392cc",
   "metadata": {},
   "outputs": [
    {
     "data": {
      "text/plain": [
       "6"
      ]
     },
     "execution_count": 38,
     "metadata": {},
     "output_type": "execute_result"
    }
   ],
   "source": [
    "mymax(4, 5, 6)"
   ]
  },
  {
   "cell_type": "code",
   "execution_count": 39,
   "id": "3af48b81",
   "metadata": {},
   "outputs": [
    {
     "data": {
      "text/plain": [
       "7"
      ]
     },
     "execution_count": 39,
     "metadata": {},
     "output_type": "execute_result"
    }
   ],
   "source": [
    "mymax(7, 6, 5)"
   ]
  },
  {
   "cell_type": "code",
   "execution_count": 40,
   "id": "917cd96c",
   "metadata": {},
   "outputs": [
    {
     "ename": "LoadError",
     "evalue": "MethodError: no method matching mymax()\n\u001b[0mClosest candidates are:\n\u001b[0m  mymax(\u001b[91m::Any\u001b[39m, \u001b[91m::Any\u001b[39m) at In[37]:1\n\u001b[0m  mymax(\u001b[91m::Any\u001b[39m, \u001b[91m::Any...\u001b[39m) at In[36]:1",
     "output_type": "error",
     "traceback": [
      "MethodError: no method matching mymax()\n\u001b[0mClosest candidates are:\n\u001b[0m  mymax(\u001b[91m::Any\u001b[39m, \u001b[91m::Any\u001b[39m) at In[37]:1\n\u001b[0m  mymax(\u001b[91m::Any\u001b[39m, \u001b[91m::Any...\u001b[39m) at In[36]:1",
      "",
      "Stacktrace:",
      " [1] mymax(::Int64)",
      "   @ Main .\\In[36]:1",
      " [2] top-level scope",
      "   @ In[40]:1",
      " [3] eval",
      "   @ .\\boot.jl:360 [inlined]",
      " [4] include_string(mapexpr::typeof(REPL.softscope), mod::Module, code::String, filename::String)",
      "   @ Base .\\loading.jl:1116"
     ]
    }
   ],
   "source": [
    "mymax(1)"
   ]
  },
  {
   "cell_type": "code",
   "execution_count": 41,
   "id": "ac16ee88",
   "metadata": {},
   "outputs": [
    {
     "data": {
      "text/plain": [
       "mymax (generic function with 3 methods)"
      ]
     },
     "execution_count": 41,
     "metadata": {},
     "output_type": "execute_result"
    }
   ],
   "source": [
    "mymax(x) = x"
   ]
  },
  {
   "cell_type": "code",
   "execution_count": 42,
   "id": "1d0163aa",
   "metadata": {},
   "outputs": [
    {
     "data": {
      "text/plain": [
       "1"
      ]
     },
     "execution_count": 42,
     "metadata": {},
     "output_type": "execute_result"
    }
   ],
   "source": [
    "mymax(1)"
   ]
  },
  {
   "cell_type": "code",
   "execution_count": 43,
   "id": "9e824664",
   "metadata": {},
   "outputs": [
    {
     "data": {
      "text/html": [
       "# 3 methods for generic function <b>mymax</b>:<ul><li> mymax(x) in Main at In[41]:1</li> <li> mymax(s, t) in Main at In[37]:1</li> <li> mymax(s, t...) in Main at In[36]:1</li> </ul>"
      ],
      "text/plain": [
       "# 3 methods for generic function \"mymax\":\n",
       "[1] mymax(x) in Main at In[41]:1\n",
       "[2] mymax(s, t) in Main at In[37]:1\n",
       "[3] mymax(s, t...) in Main at In[36]:1"
      ]
     },
     "execution_count": 43,
     "metadata": {},
     "output_type": "execute_result"
    }
   ],
   "source": [
    "methods(mymax)"
   ]
  },
  {
   "cell_type": "markdown",
   "id": "0f07ead6",
   "metadata": {},
   "source": [
    "# Default Values"
   ]
  },
  {
   "cell_type": "code",
   "execution_count": 44,
   "id": "05245cc5",
   "metadata": {},
   "outputs": [
    {
     "data": {
      "text/plain": [
       "mymax (generic function with 3 methods)"
      ]
     },
     "execution_count": 44,
     "metadata": {},
     "output_type": "execute_result"
    }
   ],
   "source": [
    "mymax(s, t...) = mymax(s, mymax(t...))\n",
    "mymax(s, t=s) = s > t ? s : t"
   ]
  },
  {
   "cell_type": "code",
   "execution_count": 45,
   "id": "b7321b37",
   "metadata": {},
   "outputs": [
    {
     "data": {
      "text/html": [
       "# 3 methods for generic function <b>mymax</b>:<ul><li> mymax(s) in Main at In[44]:2</li> <li> mymax(s, t) in Main at In[44]:2</li> <li> mymax(s, t...) in Main at In[44]:1</li> </ul>"
      ],
      "text/plain": [
       "# 3 methods for generic function \"mymax\":\n",
       "[1] mymax(s) in Main at In[44]:2\n",
       "[2] mymax(s, t) in Main at In[44]:2\n",
       "[3] mymax(s, t...) in Main at In[44]:1"
      ]
     },
     "execution_count": 45,
     "metadata": {},
     "output_type": "execute_result"
    }
   ],
   "source": [
    "methods(mymax)"
   ]
  },
  {
   "cell_type": "markdown",
   "id": "a1fc3ac6",
   "metadata": {},
   "source": [
    "# Slurping and Splatting"
   ]
  },
  {
   "cell_type": "code",
   "execution_count": 46,
   "id": "33e48418",
   "metadata": {},
   "outputs": [
    {
     "data": {
      "text/plain": [
       "test (generic function with 1 method)"
      ]
     },
     "execution_count": 46,
     "metadata": {},
     "output_type": "execute_result"
    }
   ],
   "source": [
    "function test(args...)\n",
    "    println(typeof(args))\n",
    "end"
   ]
  },
  {
   "cell_type": "code",
   "execution_count": 47,
   "id": "1cb312b6",
   "metadata": {},
   "outputs": [
    {
     "name": "stdout",
     "output_type": "stream",
     "text": [
      "Tuple{Int64, Int64, Int64, Float64}\n"
     ]
    }
   ],
   "source": [
    "test(10, 8, 6, 2.0)"
   ]
  },
  {
   "cell_type": "code",
   "execution_count": 48,
   "id": "1cb593c5",
   "metadata": {},
   "outputs": [
    {
     "data": {
      "text/plain": [
       "true"
      ]
     },
     "execution_count": 48,
     "metadata": {},
     "output_type": "execute_result"
    }
   ],
   "source": [
    "k1 = (1, 2);\n",
    "k2 = (3, 4);\n",
    "attacks(k1..., k2...)"
   ]
  },
  {
   "cell_type": "markdown",
   "id": "eb9ebc9b",
   "metadata": {},
   "source": [
    "# 4.4 Return Value"
   ]
  },
  {
   "cell_type": "code",
   "execution_count": 49,
   "id": "f54800f0",
   "metadata": {},
   "outputs": [
    {
     "name": "stdout",
     "output_type": "stream",
     "text": [
      "Hello World\n"
     ]
    }
   ],
   "source": [
    "a = hello_world()"
   ]
  },
  {
   "cell_type": "code",
   "execution_count": 50,
   "id": "c17d58ef",
   "metadata": {},
   "outputs": [
    {
     "data": {
      "text/plain": [
       "Nothing"
      ]
     },
     "execution_count": 50,
     "metadata": {},
     "output_type": "execute_result"
    }
   ],
   "source": [
    "typeof(a)"
   ]
  },
  {
   "cell_type": "markdown",
   "id": "d3031b4d",
   "metadata": {},
   "source": [
    "# Type Safety"
   ]
  },
  {
   "cell_type": "code",
   "execution_count": 51,
   "id": "4e98d974",
   "metadata": {},
   "outputs": [
    {
     "data": {
      "text/plain": [
       "attacks (generic function with 1 method)"
      ]
     },
     "execution_count": 51,
     "metadata": {},
     "output_type": "execute_result"
    }
   ],
   "source": [
    "function attacks(S1, T1, S2, T2)\n",
    "    if S1 == S2\n",
    "        return true\n",
    "    elseif T1 == T2\n",
    "        return true\n",
    "    elseif S1 - T1 == S2 - T2\n",
    "        return true\n",
    "    elseif S1 + T1 == S2 + T2\n",
    "        return true\n",
    "    end\n",
    "end"
   ]
  },
  {
   "cell_type": "code",
   "execution_count": 52,
   "id": "6f669937",
   "metadata": {},
   "outputs": [
    {
     "data": {
      "text/plain": [
       "true"
      ]
     },
     "execution_count": 52,
     "metadata": {},
     "output_type": "execute_result"
    }
   ],
   "source": [
    "attacks(2, 4, 6, 8)"
   ]
  },
  {
   "cell_type": "code",
   "execution_count": 53,
   "id": "8844c8cc",
   "metadata": {},
   "outputs": [],
   "source": [
    "attacks(2, 4, 6, 9)"
   ]
  },
  {
   "cell_type": "code",
   "execution_count": 54,
   "id": "a76ca937",
   "metadata": {},
   "outputs": [
    {
     "data": {
      "text/plain": [
       "true"
      ]
     },
     "execution_count": 54,
     "metadata": {},
     "output_type": "execute_result"
    }
   ],
   "source": [
    "a = attacks(2, 4, 6, 8)"
   ]
  },
  {
   "cell_type": "code",
   "execution_count": 55,
   "id": "63f141cb",
   "metadata": {},
   "outputs": [],
   "source": [
    "b = attacks(2, 4, 6, 9)"
   ]
  },
  {
   "cell_type": "code",
   "execution_count": 56,
   "id": "c9fd2bdb",
   "metadata": {},
   "outputs": [
    {
     "data": {
      "text/plain": [
       "(Bool, Nothing)"
      ]
     },
     "execution_count": 56,
     "metadata": {},
     "output_type": "execute_result"
    }
   ],
   "source": [
    "typeof(a), typeof(b)"
   ]
  },
  {
   "cell_type": "markdown",
   "id": "fdd51a04",
   "metadata": {},
   "source": [
    "# Multiple Values\n",
    "Tuples can be used to return multiple values from a function."
   ]
  },
  {
   "cell_type": "code",
   "execution_count": 57,
   "id": "a89e7c92",
   "metadata": {},
   "outputs": [
    {
     "data": {
      "text/plain": [
       "attacks_with_reason (generic function with 1 method)"
      ]
     },
     "execution_count": 57,
     "metadata": {},
     "output_type": "execute_result"
    }
   ],
   "source": [
    "function attacks_with_reason(S1, T1, S2, T2)\n",
    "    if S1 == S2\n",
    "        return true, :S\n",
    "    elseif T1 == T2\n",
    "        return true, :T\n",
    "    elseif S1 - T1 == S2 - T2\n",
    "        return true, :diag\n",
    "    elseif S1 + T1 == S2 + T2\n",
    "        return true, :Sdiag\n",
    "    else\n",
    "        return false, :na\n",
    "    end\n",
    "end"
   ]
  },
  {
   "cell_type": "code",
   "execution_count": 58,
   "id": "86945900",
   "metadata": {},
   "outputs": [
    {
     "data": {
      "text/plain": [
       "(true, :diag)"
      ]
     },
     "execution_count": 58,
     "metadata": {},
     "output_type": "execute_result"
    }
   ],
   "source": [
    "attacks_with_reason(2, 4, 6, 8)"
   ]
  },
  {
   "cell_type": "code",
   "execution_count": 59,
   "id": "e1ec2fbc",
   "metadata": {},
   "outputs": [
    {
     "data": {
      "text/plain": [
       "(false, :na)"
      ]
     },
     "execution_count": 59,
     "metadata": {},
     "output_type": "execute_result"
    }
   ],
   "source": [
    "attacks_with_reason(2, 4, 6, 2)"
   ]
  },
  {
   "cell_type": "code",
   "execution_count": 60,
   "id": "1cbecc4d",
   "metadata": {},
   "outputs": [
    {
     "data": {
      "text/plain": [
       "(true, :T)"
      ]
     },
     "execution_count": 60,
     "metadata": {},
     "output_type": "execute_result"
    }
   ],
   "source": [
    "attacks_with_reason(2, 4, 6, 4)"
   ]
  },
  {
   "cell_type": "code",
   "execution_count": 61,
   "id": "b9022113",
   "metadata": {},
   "outputs": [
    {
     "data": {
      "text/plain": [
       "(true, :Sdiag)"
      ]
     },
     "execution_count": 61,
     "metadata": {},
     "output_type": "execute_result"
    }
   ],
   "source": [
    "attacks_with_reason(2, 4, 4, 2)"
   ]
  },
  {
   "cell_type": "markdown",
   "id": "9421c5e3",
   "metadata": {},
   "source": [
    "# 4.5 Recursion\n",
    "Functional programming emphacises use of recursion to achieve complex tasks. We will solve the eight queens problem using recursion."
   ]
  },
  {
   "cell_type": "code",
   "execution_count": 68,
   "id": "4dba9304",
   "metadata": {},
   "outputs": [
    {
     "data": {
      "text/plain": [
       "queens (generic function with 1 method)"
      ]
     },
     "execution_count": 68,
     "metadata": {},
     "output_type": "execute_result"
    }
   ],
   "source": [
    "attacks(S1, T1, S2, T2) = (S1 == S2 || T1 == T2 || S1 - T1 == S2 - T2 || S1 + T1 == S2 + T2)\n",
    "function queens(N, Ss...)\n",
    "    lSs = length(Ss)\n",
    "    c = N - lSs                           \n",
    "    if c == 0                            \n",
    "        println(\"Final Positions: \", reverse(Ss))\n",
    "        return 0\n",
    "    end\n",
    "    for i=1:N                            \n",
    "        res = false                      \n",
    "        for j=1:lSs\n",
    "            res = res || attacks(Ss[j], N-j+1, i, c)\n",
    "        end\n",
    "        res && continue\n",
    "        v = queens(N, Ss..., i)          \n",
    "        v < 0 || return v\n",
    "    end\n",
    "    return -1                            \n",
    "end"
   ]
  },
  {
   "cell_type": "code",
   "execution_count": 69,
   "id": "ead175ec",
   "metadata": {},
   "outputs": [
    {
     "name": "stdout",
     "output_type": "stream",
     "text": [
      "Final Positions: (6, 4, 2, 7, 5, 3, 1)\n"
     ]
    },
    {
     "data": {
      "text/plain": [
       "0"
      ]
     },
     "execution_count": 69,
     "metadata": {},
     "output_type": "execute_result"
    }
   ],
   "source": [
    "queens(7)"
   ]
  },
  {
   "cell_type": "code",
   "execution_count": 70,
   "id": "6a879d69",
   "metadata": {},
   "outputs": [
    {
     "data": {
      "text/plain": [
       "queens (generic function with 1 method)"
      ]
     },
     "execution_count": 70,
     "metadata": {},
     "output_type": "execute_result"
    }
   ],
   "source": [
    "function queens(N, Ss...)\n",
    "    println(Ss)\n",
    "    lSs = length(Ss)\n",
    "    c = N - lSs                         \n",
    "    if c == 0                            \n",
    "        println(\"Final Positions: \", reverse(Ss))\n",
    "        return 0\n",
    "    end\n",
    "    for i=1:N                            \n",
    "        res = false                      \n",
    "        for j=1:lSs\n",
    "            res = res || attacks(Ss[j], N-j+1, i, c)\n",
    "        end\n",
    "        res && continue\n",
    "        v = queens(N, Ss..., i)          \n",
    "        v < 0 || return v\n",
    "    end\n",
    "    return -1                            \n",
    "end"
   ]
  },
  {
   "cell_type": "code",
   "execution_count": 71,
   "id": "1a502425",
   "metadata": {},
   "outputs": [
    {
     "name": "stdout",
     "output_type": "stream",
     "text": [
      "()\n",
      "(1,)\n",
      "(1, 3)\n",
      "(1, 3, 5)\n",
      "(1, 3, 5, 2)\n",
      "(1, 3, 5, 2, 4)\n",
      "(1, 3, 5, 2, 8)\n",
      "(1, 3, 5, 7)\n",
      "(1, 3, 5, 7, 2)\n",
      "(1, 3, 5, 7, 2, 4)\n",
      "(1, 3, 5, 7, 2, 4, 6)\n",
      "(1, 3, 5, 7, 4)\n",
      "(1, 3, 5, 8)\n",
      "(1, 3, 5, 8, 2)\n",
      "(1, 3, 5, 8, 2, 4)\n",
      "(1, 3, 5, 8, 2, 4, 6)\n",
      "(1, 3, 5, 8, 4)\n",
      "(1, 3, 6)\n",
      "(1, 3, 6, 2)\n",
      "(1, 3, 6, 2, 7)\n",
      "(1, 3, 6, 2, 7, 5)\n",
      "(1, 3, 6, 8)\n",
      "(1, 3, 6, 8, 2)\n",
      "(1, 3, 6, 8, 2, 4)\n",
      "(1, 3, 6, 8, 2, 5)\n",
      "(1, 3, 7)\n",
      "(1, 3, 7, 2)\n",
      "(1, 3, 7, 2, 4)\n",
      "(1, 3, 7, 2, 4, 8)\n",
      "(1, 3, 7, 2, 8)\n",
      "(1, 3, 7, 2, 8, 5)\n",
      "(1, 3, 8)\n",
      "(1, 3, 8, 2)\n",
      "(1, 3, 8, 2, 4)\n",
      "(1, 3, 8, 2, 7)\n",
      "(1, 3, 8, 6)\n",
      "(1, 3, 8, 6, 2)\n",
      "(1, 3, 8, 6, 4)\n",
      "(1, 3, 8, 6, 4, 2)\n",
      "(1, 3, 8, 6, 4, 2, 5)\n",
      "(1, 4)\n",
      "(1, 4, 2)\n",
      "(1, 4, 2, 5)\n",
      "(1, 4, 2, 5, 3)\n",
      "(1, 4, 2, 5, 8)\n",
      "(1, 4, 2, 7)\n",
      "(1, 4, 2, 7, 3)\n",
      "(1, 4, 2, 8)\n",
      "(1, 4, 2, 8, 3)\n",
      "(1, 4, 2, 8, 3, 7)\n",
      "(1, 4, 2, 8, 6)\n",
      "(1, 4, 2, 8, 6, 3)\n",
      "(1, 4, 6)\n",
      "(1, 4, 6, 3)\n",
      "(1, 4, 6, 8)\n",
      "(1, 4, 6, 8, 2)\n",
      "(1, 4, 6, 8, 2, 5)\n",
      "(1, 4, 6, 8, 2, 5, 3)\n",
      "(1, 4, 6, 8, 2, 7)\n",
      "(1, 4, 6, 8, 2, 7, 3)\n",
      "(1, 4, 6, 8, 3)\n",
      "(1, 4, 6, 8, 3, 5)\n",
      "(1, 4, 6, 8, 3, 7)\n",
      "(1, 4, 7)\n",
      "(1, 4, 7, 3)\n",
      "(1, 4, 7, 3, 6)\n",
      "(1, 4, 7, 3, 6, 2)\n",
      "(1, 4, 7, 3, 6, 2, 5)\n",
      "(1, 4, 7, 3, 8)\n",
      "(1, 4, 7, 3, 8, 2)\n",
      "(1, 4, 7, 3, 8, 2, 5)\n",
      "(1, 4, 7, 5)\n",
      "(1, 4, 7, 5, 2)\n",
      "(1, 4, 7, 5, 3)\n",
      "(1, 4, 7, 5, 8)\n",
      "(1, 4, 7, 5, 8, 2)\n",
      "(1, 4, 8)\n",
      "(1, 4, 8, 3)\n",
      "(1, 4, 8, 5)\n",
      "(1, 4, 8, 5, 2)\n",
      "(1, 4, 8, 5, 3)\n",
      "(1, 5)\n",
      "(1, 5, 2)\n",
      "(1, 5, 2, 6)\n",
      "(1, 5, 2, 6, 3)\n",
      "(1, 5, 2, 6, 3, 7)\n",
      "(1, 5, 2, 6, 3, 7, 4)\n",
      "(1, 5, 2, 8)\n",
      "(1, 5, 2, 8, 3)\n",
      "(1, 5, 2, 8, 3, 7)\n",
      "(1, 5, 2, 8, 3, 7, 4)\n",
      "(1, 5, 2, 8, 6)\n",
      "(1, 5, 2, 8, 6, 3)\n",
      "(1, 5, 2, 8, 6, 4)\n",
      "(1, 5, 7)\n",
      "(1, 5, 7, 2)\n",
      "(1, 5, 7, 2, 4)\n",
      "(1, 5, 7, 2, 4, 8)\n",
      "(1, 5, 7, 2, 6)\n",
      "(1, 5, 7, 2, 6, 3)\n",
      "(1, 5, 7, 2, 6, 8)\n",
      "(1, 5, 8)\n",
      "(1, 5, 8, 2)\n",
      "(1, 5, 8, 2, 4)\n",
      "(1, 5, 8, 2, 4, 7)\n",
      "(1, 5, 8, 2, 4, 7, 3)\n",
      "(1, 5, 8, 2, 7)\n",
      "(1, 5, 8, 2, 7, 3)\n",
      "(1, 5, 8, 2, 7, 3, 6)\n",
      "(1, 5, 8, 6)\n",
      "(1, 5, 8, 6, 3)\n",
      "(1, 5, 8, 6, 3, 7)\n",
      "(1, 5, 8, 6, 3, 7, 2)\n",
      "(1, 5, 8, 6, 3, 7, 2, 4)\n",
      "Final Positions: (4, 2, 7, 3, 6, 8, 5, 1)\n"
     ]
    },
    {
     "data": {
      "text/plain": [
       "0"
      ]
     },
     "execution_count": 71,
     "metadata": {},
     "output_type": "execute_result"
    }
   ],
   "source": [
    "queens(8)"
   ]
  },
  {
   "cell_type": "markdown",
   "id": "f512fca2",
   "metadata": {},
   "source": [
    "# Tail Call\n",
    "Missing tail call optimization in Julia is a concern but can be offset by first class iterative schemes that reduce emphasis from the recursive tasks."
   ]
  },
  {
   "cell_type": "code",
   "execution_count": 72,
   "id": "5df601fe",
   "metadata": {},
   "outputs": [
    {
     "data": {
      "text/plain": [
       "mycumsum (generic function with 1 method)"
      ]
     },
     "execution_count": 72,
     "metadata": {},
     "output_type": "execute_result"
    }
   ],
   "source": [
    "function mycumsum(n) \n",
    "     if n <= 0 \n",
    "         return 0 \n",
    "     else \n",
    "         return n + mycumsum(n-1)\n",
    "     end\n",
    "end"
   ]
  },
  {
   "cell_type": "code",
   "execution_count": 73,
   "id": "90b4c847",
   "metadata": {},
   "outputs": [
    {
     "data": {
      "text/plain": [
       "120"
      ]
     },
     "execution_count": 73,
     "metadata": {},
     "output_type": "execute_result"
    }
   ],
   "source": [
    "mycumsum(15)"
   ]
  },
  {
   "cell_type": "code",
   "execution_count": 74,
   "id": "70f34908",
   "metadata": {},
   "outputs": [
    {
     "data": {
      "text/plain": [
       "mycumsum (generic function with 2 methods)"
      ]
     },
     "execution_count": 74,
     "metadata": {},
     "output_type": "execute_result"
    }
   ],
   "source": [
    "function mycumsum(n, acc=0)\n",
    "    if n <= 0\n",
    "        return acc\n",
    "    else\n",
    "        return mycumsum(n-1, n+acc)\n",
    "    end\n",
    "end"
   ]
  },
  {
   "cell_type": "code",
   "execution_count": 75,
   "id": "a25d6de4",
   "metadata": {},
   "outputs": [
    {
     "data": {
      "text/plain": [
       "120"
      ]
     },
     "execution_count": 75,
     "metadata": {},
     "output_type": "execute_result"
    }
   ],
   "source": [
    "mycumsum(15)"
   ]
  },
  {
   "cell_type": "markdown",
   "id": "bbaf91cc",
   "metadata": {},
   "source": [
    "# 4.6 Polymorphic Methods\n",
    "Functions can be dispatched to different methods based on argument type and show polymorphic behavior advocated by object oriented programming models."
   ]
  },
  {
   "cell_type": "code",
   "execution_count": 93,
   "id": "d81ddb14",
   "metadata": {},
   "outputs": [
    {
     "data": {
      "text/plain": [
       "area (generic function with 2 methods)"
      ]
     },
     "execution_count": 93,
     "metadata": {},
     "output_type": "execute_result"
    }
   ],
   "source": [
    "abstract type Shape end\n",
    "struct Rectangle <: Shape\n",
    "    a::Float32\n",
    "    b::Float32\n",
    "end\n",
    "\n",
    "struct Triangle <: Shape \n",
    "    x::Float32\n",
    "    y::Float32\n",
    "    z::Float32\n",
    "end\n",
    "area(r::Rectangle)=r.a*r.b\n",
    "\n",
    "function area(t::Triangle)\n",
    "    x, y, z = t.x, t.y, t.z\n",
    "    s = (x + y + z)/2\n",
    "    return sqrt(s*(s-x)*(s-y)*(s-z))\n",
    "end"
   ]
  },
  {
   "cell_type": "code",
   "execution_count": 95,
   "id": "521c3a05",
   "metadata": {},
   "outputs": [
    {
     "data": {
      "text/plain": [
       "(Shape Type:Rectangle Area:42.0, Shape Type:Triangle Area:9.921567)"
      ]
     },
     "execution_count": 95,
     "metadata": {},
     "output_type": "execute_result"
    }
   ],
   "source": [
    "r, t = Rectangle(6,7), Triangle(4, 5, 6)"
   ]
  },
  {
   "cell_type": "code",
   "execution_count": 96,
   "id": "9bec10bd",
   "metadata": {},
   "outputs": [
    {
     "data": {
      "text/plain": [
       "42.0f0"
      ]
     },
     "execution_count": 96,
     "metadata": {},
     "output_type": "execute_result"
    }
   ],
   "source": [
    "area(r)"
   ]
  },
  {
   "cell_type": "code",
   "execution_count": 97,
   "id": "484c2730",
   "metadata": {},
   "outputs": [
    {
     "data": {
      "text/plain": [
       "9.921567f0"
      ]
     },
     "execution_count": 97,
     "metadata": {},
     "output_type": "execute_result"
    }
   ],
   "source": [
    "area(t)"
   ]
  },
  {
   "cell_type": "code",
   "execution_count": 98,
   "id": "cfe42f67",
   "metadata": {},
   "outputs": [
    {
     "data": {
      "text/plain": [
       "Shape Type:Rectangle Area:42.0"
      ]
     },
     "execution_count": 98,
     "metadata": {},
     "output_type": "execute_result"
    }
   ],
   "source": [
    "Base.show(io::IO, s::Shape) = print(io, \"Shape Type:\", typeof(s), \" Area:\", area(s))\n",
    "r"
   ]
  },
  {
   "cell_type": "code",
   "execution_count": 99,
   "id": "45bc1498",
   "metadata": {},
   "outputs": [
    {
     "data": {
      "text/plain": [
       "Shape Type:Rectangle Area:42.0"
      ]
     },
     "execution_count": 99,
     "metadata": {},
     "output_type": "execute_result"
    }
   ],
   "source": [
    "r"
   ]
  },
  {
   "cell_type": "code",
   "execution_count": 100,
   "id": "bdcb3de4",
   "metadata": {},
   "outputs": [
    {
     "data": {
      "text/plain": [
       "Shape Type:Triangle Area:9.921567"
      ]
     },
     "execution_count": 100,
     "metadata": {},
     "output_type": "execute_result"
    }
   ],
   "source": [
    "t"
   ]
  },
  {
   "cell_type": "markdown",
   "id": "5435a1d9",
   "metadata": {},
   "source": [
    "# Multiple Dispatch\n",
    "Constructors"
   ]
  },
  {
   "cell_type": "code",
   "execution_count": 101,
   "id": "075ad96f",
   "metadata": {},
   "outputs": [],
   "source": [
    "struct RectangleA\n",
    "    a::Float32\n",
    "    b::Float32\n",
    "    function RectangleA(a::Real, b::Real)\n",
    "        (a > 0 && b > 0) || \n",
    "        error(\"invalid rectangle with non-positive b or a\")\n",
    "        return new(a, b)\n",
    "    end\n",
    "end"
   ]
  },
  {
   "cell_type": "code",
   "execution_count": 104,
   "id": "d22f39b3",
   "metadata": {},
   "outputs": [
    {
     "ename": "LoadError",
     "evalue": "invalid rectangle with non-positive b or a",
     "output_type": "error",
     "traceback": [
      "invalid rectangle with non-positive b or a",
      "",
      "Stacktrace:",
      " [1] error(s::String)",
      "   @ Base .\\error.jl:33",
      " [2] RectangleA(a::Float64, b::Float64)",
      "   @ Main .\\In[101]:5",
      " [3] top-level scope",
      "   @ In[104]:1",
      " [4] eval",
      "   @ .\\boot.jl:360 [inlined]",
      " [5] include_string(mapexpr::typeof(REPL.softscope), mod::Module, code::String, filename::String)",
      "   @ Base .\\loading.jl:1116"
     ]
    }
   ],
   "source": [
    "a = RectangleA(1.0, -4.0)"
   ]
  },
  {
   "cell_type": "code",
   "execution_count": 105,
   "id": "d12df605",
   "metadata": {},
   "outputs": [
    {
     "data": {
      "text/plain": [
       "RectangleA(0.2f0, 0.8f0)"
      ]
     },
     "execution_count": 105,
     "metadata": {},
     "output_type": "execute_result"
    }
   ],
   "source": [
    "a = RectangleA(1//5, 4//5)"
   ]
  },
  {
   "cell_type": "code",
   "execution_count": 106,
   "id": "ac938bb5",
   "metadata": {},
   "outputs": [
    {
     "data": {
      "text/plain": [
       "RectangleA(2.0f0, 8.0f0)"
      ]
     },
     "execution_count": 106,
     "metadata": {},
     "output_type": "execute_result"
    }
   ],
   "source": [
    "a = RectangleA(2, 8)"
   ]
  },
  {
   "cell_type": "code",
   "execution_count": 107,
   "id": "eb794e29",
   "metadata": {},
   "outputs": [
    {
     "data": {
      "text/plain": [
       "RectangleA(2.0f0, 8.0f0)"
      ]
     },
     "execution_count": 107,
     "metadata": {},
     "output_type": "execute_result"
    }
   ],
   "source": [
    "a = RectangleA(2.0, 8.0)"
   ]
  },
  {
   "cell_type": "code",
   "execution_count": 108,
   "id": "022c38f4",
   "metadata": {},
   "outputs": [
    {
     "data": {
      "text/plain": [
       "RectangleA(2.0f0, 8.0f0)"
      ]
     },
     "execution_count": 108,
     "metadata": {},
     "output_type": "execute_result"
    }
   ],
   "source": [
    "a = RectangleA(2.0, 8)"
   ]
  },
  {
   "cell_type": "code",
   "execution_count": 109,
   "id": "7059a4d2",
   "metadata": {},
   "outputs": [
    {
     "data": {
      "text/plain": [
       "RectangleA"
      ]
     },
     "execution_count": 109,
     "metadata": {},
     "output_type": "execute_result"
    }
   ],
   "source": [
    "RectangleA(a=1.0)=RectangleA(a, a)"
   ]
  },
  {
   "cell_type": "code",
   "execution_count": 110,
   "id": "9277fc4f",
   "metadata": {},
   "outputs": [
    {
     "data": {
      "text/plain": [
       "RectangleA(1.0f0, 1.0f0)"
      ]
     },
     "execution_count": 110,
     "metadata": {},
     "output_type": "execute_result"
    }
   ],
   "source": [
    "RectangleA()"
   ]
  },
  {
   "cell_type": "code",
   "execution_count": 112,
   "id": "5e00f48e",
   "metadata": {},
   "outputs": [
    {
     "data": {
      "text/plain": [
       "RectangleA(4.0f0, 4.0f0)"
      ]
     },
     "execution_count": 112,
     "metadata": {},
     "output_type": "execute_result"
    }
   ],
   "source": [
    "RectangleA(4.0)"
   ]
  },
  {
   "cell_type": "code",
   "execution_count": 113,
   "id": "1c4f911b",
   "metadata": {},
   "outputs": [
    {
     "data": {
      "text/html": [
       "# 3 methods for type constructor:<ul><li> RectangleA() in Main at In[109]:1</li> <li> RectangleA(a::<b>Real</b>, b::<b>Real</b>) in Main at In[101]:4</li> <li> RectangleA(a) in Main at In[109]:1</li> </ul>"
      ],
      "text/plain": [
       "# 3 methods for type constructor:\n",
       "[1] RectangleA() in Main at In[109]:1\n",
       "[2] RectangleA(a::Real, b::Real) in Main at In[101]:4\n",
       "[3] RectangleA(a) in Main at In[109]:1"
      ]
     },
     "execution_count": 113,
     "metadata": {},
     "output_type": "execute_result"
    }
   ],
   "source": [
    "methods(RectangleA)"
   ]
  },
  {
   "cell_type": "markdown",
   "id": "e00c9b32",
   "metadata": {},
   "source": [
    "# Return Value\n",
    "Parametric Data Type"
   ]
  },
  {
   "cell_type": "code",
   "execution_count": 114,
   "id": "4a4c4d54",
   "metadata": {},
   "outputs": [],
   "source": [
    "struct RectangleB{T <: Real}\n",
    "    a::T\n",
    "    b::T\n",
    "end"
   ]
  },
  {
   "cell_type": "code",
   "execution_count": 115,
   "id": "dbd098e8",
   "metadata": {},
   "outputs": [
    {
     "data": {
      "text/plain": [
       "RectangleB{Rational{Int64}}(2//7, 1//5)"
      ]
     },
     "execution_count": 115,
     "metadata": {},
     "output_type": "execute_result"
    }
   ],
   "source": [
    "RectangleB(2//7, 1//5)"
   ]
  },
  {
   "cell_type": "code",
   "execution_count": 116,
   "id": "ca392e98",
   "metadata": {},
   "outputs": [
    {
     "data": {
      "text/plain": [
       "RectangleB{Float32}(2.0f0, 4.0f0)"
      ]
     },
     "execution_count": 116,
     "metadata": {},
     "output_type": "execute_result"
    }
   ],
   "source": [
    "RectangleB(2f0, 4f0)"
   ]
  },
  {
   "cell_type": "code",
   "execution_count": 118,
   "id": "5cc1d35b",
   "metadata": {},
   "outputs": [
    {
     "ename": "LoadError",
     "evalue": "MethodError: no method matching RectangleB(::Rational{Int64}, ::Float32)\n\u001b[0mClosest candidates are:\n\u001b[0m  RectangleB(::T, \u001b[91m::T\u001b[39m) where T<:Real at In[114]:2",
     "output_type": "error",
     "traceback": [
      "MethodError: no method matching RectangleB(::Rational{Int64}, ::Float32)\n\u001b[0mClosest candidates are:\n\u001b[0m  RectangleB(::T, \u001b[91m::T\u001b[39m) where T<:Real at In[114]:2",
      "",
      "Stacktrace:",
      " [1] top-level scope",
      "   @ In[118]:1",
      " [2] eval",
      "   @ .\\boot.jl:360 [inlined]",
      " [3] include_string(mapexpr::typeof(REPL.softscope), mod::Module, code::String, filename::String)",
      "   @ Base .\\loading.jl:1116"
     ]
    }
   ],
   "source": [
    "RectangleB(2//5, 2f0)"
   ]
  },
  {
   "cell_type": "code",
   "execution_count": 119,
   "id": "4813d360",
   "metadata": {},
   "outputs": [
    {
     "data": {
      "text/plain": [
       "RectangleB{Int64}(97, 3)"
      ]
     },
     "execution_count": 119,
     "metadata": {},
     "output_type": "execute_result"
    }
   ],
   "source": [
    "RectangleB{Int}('a', 3f0)"
   ]
  },
  {
   "cell_type": "code",
   "execution_count": 120,
   "id": "c28dbf06",
   "metadata": {},
   "outputs": [
    {
     "data": {
      "text/plain": [
       "aspect_ratio (generic function with 1 method)"
      ]
     },
     "execution_count": 120,
     "metadata": {},
     "output_type": "execute_result"
    }
   ],
   "source": [
    "area(r::RectangleB)=r.a*r.b\n",
    "aspect_ratio(r::RectangleB)=r.a/r.b"
   ]
  },
  {
   "cell_type": "code",
   "execution_count": 121,
   "id": "c5828380",
   "metadata": {},
   "outputs": [
    {
     "data": {
      "text/plain": [
       "(RectangleB{Rational{Int64}}(1//3, 2//5), RectangleB{Float64}(3.5, 1.5), RectangleB{Int64}(2, 4))"
      ]
     },
     "execution_count": 121,
     "metadata": {},
     "output_type": "execute_result"
    }
   ],
   "source": [
    "r, r1, r2 = RectangleB(1//3, 2//5), RectangleB(3.5, 1.5), RectangleB(2, 4)"
   ]
  },
  {
   "cell_type": "code",
   "execution_count": 123,
   "id": "bf8936d0",
   "metadata": {},
   "outputs": [
    {
     "data": {
      "text/plain": [
       "(2//15, 5.25, 8)"
      ]
     },
     "execution_count": 123,
     "metadata": {},
     "output_type": "execute_result"
    }
   ],
   "source": [
    "area(r), area(r1), area(r2)"
   ]
  },
  {
   "cell_type": "code",
   "execution_count": 124,
   "id": "f13ff8ed",
   "metadata": {},
   "outputs": [
    {
     "data": {
      "text/plain": [
       "(5//6, 2.3333333333333335, 0.5)"
      ]
     },
     "execution_count": 124,
     "metadata": {},
     "output_type": "execute_result"
    }
   ],
   "source": [
    "aspect_ratio(r), aspect_ratio(r1), aspect_ratio(r2)"
   ]
  },
  {
   "cell_type": "code",
   "execution_count": 127,
   "id": "30bf9f6b",
   "metadata": {},
   "outputs": [
    {
     "data": {
      "text/plain": [
       "aspect_ratio (generic function with 2 methods)"
      ]
     },
     "execution_count": 127,
     "metadata": {},
     "output_type": "execute_result"
    }
   ],
   "source": [
    "aspect_ratio(r::RectangleB{T}) where T<:Union{Integer, Rational} = r.a//r.b"
   ]
  },
  {
   "cell_type": "code",
   "execution_count": 128,
   "id": "6013f3f3",
   "metadata": {},
   "outputs": [
    {
     "data": {
      "text/plain": [
       "(5//6, 2.3333333333333335, 1//2)"
      ]
     },
     "execution_count": 128,
     "metadata": {},
     "output_type": "execute_result"
    }
   ],
   "source": [
    "aspect_ratio(r), aspect_ratio(r1), aspect_ratio(r2)"
   ]
  },
  {
   "cell_type": "code",
   "execution_count": 129,
   "id": "3632732b",
   "metadata": {},
   "outputs": [
    {
     "data": {
      "text/plain": [
       "aspect_ratio (generic function with 3 methods)"
      ]
     },
     "execution_count": 129,
     "metadata": {},
     "output_type": "execute_result"
    }
   ],
   "source": [
    "aspect_ratio(r::RectangleB{T}) where T<:Integer = r.w//r.h"
   ]
  },
  {
   "cell_type": "code",
   "execution_count": 130,
   "id": "a7e1b115",
   "metadata": {},
   "outputs": [
    {
     "data": {
      "text/plain": [
       "aspect_ratio (generic function with 4 methods)"
      ]
     },
     "execution_count": 130,
     "metadata": {},
     "output_type": "execute_result"
    }
   ],
   "source": [
    "aspect_ratio(r::RectangleB{T}) where T<:Rational = r.w//r.h\n"
   ]
  },
  {
   "cell_type": "code",
   "execution_count": 131,
   "id": "72441015",
   "metadata": {},
   "outputs": [
    {
     "data": {
      "text/plain": [
       "false"
      ]
     },
     "execution_count": 131,
     "metadata": {},
     "output_type": "execute_result"
    }
   ],
   "source": [
    "\n",
    "RectangleB{Rational{Int}} <: RectangleB{Rational}"
   ]
  },
  {
   "cell_type": "code",
   "execution_count": 132,
   "id": "5a6bc1f6",
   "metadata": {},
   "outputs": [
    {
     "data": {
      "text/plain": [
       "true"
      ]
     },
     "execution_count": 132,
     "metadata": {},
     "output_type": "execute_result"
    }
   ],
   "source": [
    "RectangleB{Rational{Int}} <: RectangleB"
   ]
  },
  {
   "cell_type": "code",
   "execution_count": 133,
   "id": "aa25a03e",
   "metadata": {},
   "outputs": [
    {
     "data": {
      "text/plain": [
       "true"
      ]
     },
     "execution_count": 133,
     "metadata": {},
     "output_type": "execute_result"
    }
   ],
   "source": [
    "RectangleB{Rational} <: RectangleB"
   ]
  },
  {
   "cell_type": "markdown",
   "id": "19724026",
   "metadata": {},
   "source": [
    "# 4.7 Type Interaction\n",
    "Type conversions are not automatic. The developers need to provide for methods that approve of certain conversions."
   ]
  },
  {
   "cell_type": "code",
   "execution_count": 134,
   "id": "71d69867",
   "metadata": {},
   "outputs": [
    {
     "data": {
      "text/plain": [
       "3.0f0"
      ]
     },
     "execution_count": 134,
     "metadata": {},
     "output_type": "execute_result"
    }
   ],
   "source": [
    "1f0+2"
   ]
  },
  {
   "cell_type": "code",
   "execution_count": 135,
   "id": "795884aa",
   "metadata": {},
   "outputs": [
    {
     "data": {
      "text/plain": [
       "3.0"
      ]
     },
     "execution_count": 135,
     "metadata": {},
     "output_type": "execute_result"
    }
   ],
   "source": [
    "1f0+2.0"
   ]
  },
  {
   "cell_type": "code",
   "execution_count": 136,
   "id": "c3fefd76",
   "metadata": {},
   "outputs": [
    {
     "data": {
      "text/plain": [
       "f (generic function with 1 method)"
      ]
     },
     "execution_count": 136,
     "metadata": {},
     "output_type": "execute_result"
    }
   ],
   "source": [
    "function f()\n",
    "    i::Int = 0\n",
    "    i = 1.5\n",
    "    return i\n",
    "end"
   ]
  },
  {
   "cell_type": "code",
   "execution_count": 137,
   "id": "f6f081c7",
   "metadata": {},
   "outputs": [
    {
     "ename": "LoadError",
     "evalue": "InexactError: Int64(1.5)",
     "output_type": "error",
     "traceback": [
      "InexactError: Int64(1.5)",
      "",
      "Stacktrace:",
      " [1] Int64",
      "   @ .\\float.jl:723 [inlined]",
      " [2] convert(#unused#::Type{Int64}, x::Float64)",
      "   @ Base .\\number.jl:7",
      " [3] f()",
      "   @ Main .\\In[136]:3",
      " [4] top-level scope",
      "   @ In[137]:1",
      " [5] eval",
      "   @ .\\boot.jl:360 [inlined]",
      " [6] include_string(mapexpr::typeof(REPL.softscope), mod::Module, code::String, filename::String)",
      "   @ Base .\\loading.jl:1116"
     ]
    }
   ],
   "source": [
    "f()"
   ]
  },
  {
   "cell_type": "code",
   "execution_count": 138,
   "id": "a22a85df",
   "metadata": {},
   "outputs": [
    {
     "data": {
      "text/plain": [
       "RectangleB{Int64}(97, 1)"
      ]
     },
     "execution_count": 138,
     "metadata": {},
     "output_type": "execute_result"
    }
   ],
   "source": [
    "RectangleB{Int}('a', 1.0)"
   ]
  },
  {
   "cell_type": "code",
   "execution_count": 139,
   "id": "e047ac5f",
   "metadata": {},
   "outputs": [
    {
     "ename": "LoadError",
     "evalue": "MethodError: \u001b[0mCannot `convert` an object of type \u001b[92mString\u001b[39m\u001b[0m to an object of type \u001b[91mInt64\u001b[39m\n\u001b[0mClosest candidates are:\n\u001b[0m  convert(::Type{T}, \u001b[91m::T\u001b[39m) where T<:Number at number.jl:6\n\u001b[0m  convert(::Type{T}, \u001b[91m::Number\u001b[39m) where T<:Number at number.jl:7\n\u001b[0m  convert(::Type{T}, \u001b[91m::Base.TwicePrecision\u001b[39m) where T<:Number at twiceprecision.jl:250\n\u001b[0m  ...",
     "output_type": "error",
     "traceback": [
      "MethodError: \u001b[0mCannot `convert` an object of type \u001b[92mString\u001b[39m\u001b[0m to an object of type \u001b[91mInt64\u001b[39m\n\u001b[0mClosest candidates are:\n\u001b[0m  convert(::Type{T}, \u001b[91m::T\u001b[39m) where T<:Number at number.jl:6\n\u001b[0m  convert(::Type{T}, \u001b[91m::Number\u001b[39m) where T<:Number at number.jl:7\n\u001b[0m  convert(::Type{T}, \u001b[91m::Base.TwicePrecision\u001b[39m) where T<:Number at twiceprecision.jl:250\n\u001b[0m  ...",
      "",
      "Stacktrace:",
      " [1] RectangleB{Int64}(a::String, b::Float64)",
      "   @ Main .\\In[114]:2",
      " [2] top-level scope",
      "   @ In[139]:2",
      " [3] eval",
      "   @ .\\boot.jl:360 [inlined]",
      " [4] include_string(mapexpr::typeof(REPL.softscope), mod::Module, code::String, filename::String)",
      "   @ Base .\\loading.jl:1116"
     ]
    }
   ],
   "source": [
    "\n",
    "RectangleB{Int}(\"abc\", 1.0)"
   ]
  },
  {
   "cell_type": "markdown",
   "id": "ed0cd380",
   "metadata": {},
   "source": [
    "# Promotion\n",
    "When mixed types are provided as input, the outcome must be consistent and type stable"
   ]
  },
  {
   "cell_type": "code",
   "execution_count": 140,
   "id": "cfa5c43b",
   "metadata": {},
   "outputs": [],
   "source": [
    "struct RectangleP{T<:Real}\n",
    "    w::T\n",
    "    h::T\n",
    "    RectangleP(w::T, h::T) where T<:Real=new{T}(w, h)\n",
    "end"
   ]
  },
  {
   "cell_type": "code",
   "execution_count": 141,
   "id": "14aaf7a5",
   "metadata": {},
   "outputs": [
    {
     "ename": "LoadError",
     "evalue": "MethodError: no method matching RectangleP(::Int64, ::Float64)\n\u001b[0mClosest candidates are:\n\u001b[0m  RectangleP(::T, \u001b[91m::T\u001b[39m) where T<:Real at In[140]:4",
     "output_type": "error",
     "traceback": [
      "MethodError: no method matching RectangleP(::Int64, ::Float64)\n\u001b[0mClosest candidates are:\n\u001b[0m  RectangleP(::T, \u001b[91m::T\u001b[39m) where T<:Real at In[140]:4",
      "",
      "Stacktrace:",
      " [1] top-level scope",
      "   @ In[141]:1",
      " [2] eval",
      "   @ .\\boot.jl:360 [inlined]",
      " [3] include_string(mapexpr::typeof(REPL.softscope), mod::Module, code::String, filename::String)",
      "   @ Base .\\loading.jl:1116"
     ]
    }
   ],
   "source": [
    "RectangleP(1, 2.0)"
   ]
  },
  {
   "cell_type": "code",
   "execution_count": 142,
   "id": "cad464eb",
   "metadata": {},
   "outputs": [
    {
     "data": {
      "text/plain": [
       "RectangleP"
      ]
     },
     "execution_count": 142,
     "metadata": {},
     "output_type": "execute_result"
    }
   ],
   "source": [
    "function RectangleP(w::T1, h::T2) where {T1<:Real, T2<:Real}\n",
    "    w1, h1 = promote(w, h)\n",
    "    return RectangleP(w1, h1)\n",
    "end"
   ]
  },
  {
   "cell_type": "code",
   "execution_count": 143,
   "id": "778466b5",
   "metadata": {},
   "outputs": [
    {
     "data": {
      "text/plain": [
       "RectangleP{Float64}(1.0, 2.0)"
      ]
     },
     "execution_count": 143,
     "metadata": {},
     "output_type": "execute_result"
    }
   ],
   "source": [
    "RectangleP(1, 2.0)"
   ]
  },
  {
   "cell_type": "code",
   "execution_count": 144,
   "id": "9995fd54",
   "metadata": {},
   "outputs": [
    {
     "data": {
      "text/plain": [
       "minrect (generic function with 1 method)"
      ]
     },
     "execution_count": 144,
     "metadata": {},
     "output_type": "execute_result"
    }
   ],
   "source": [
    "function minrect(r1::RectangleP, r2::RectangleP)\n",
    "    w = r1.w < r2.w ? r1.w : r2.w\n",
    "    h = r1.h < r2.h ? r1.h : r2.h\n",
    "    return RectangleP(w, h)\n",
    "end"
   ]
  },
  {
   "cell_type": "code",
   "execution_count": 145,
   "id": "de2d8fcf",
   "metadata": {},
   "outputs": [
    {
     "data": {
      "text/plain": [
       "RectangleP{Float64}(1.0, 0.5)"
      ]
     },
     "execution_count": 145,
     "metadata": {},
     "output_type": "execute_result"
    }
   ],
   "source": [
    "minrect(RectangleP(1, 2), RectangleP(2.0, 0.5))"
   ]
  },
  {
   "cell_type": "code",
   "execution_count": 146,
   "id": "23a2c7b0",
   "metadata": {},
   "outputs": [
    {
     "data": {
      "text/plain": [
       "RectangleP{Int64}(1, 2)"
      ]
     },
     "execution_count": 146,
     "metadata": {},
     "output_type": "execute_result"
    }
   ],
   "source": [
    "minrect(RectangleP(1, 2), RectangleP(3.0, 4.0))"
   ]
  },
  {
   "cell_type": "code",
   "execution_count": 147,
   "id": "d099c83c",
   "metadata": {},
   "outputs": [
    {
     "data": {
      "text/plain": [
       "minrect (generic function with 1 method)"
      ]
     },
     "execution_count": 147,
     "metadata": {},
     "output_type": "execute_result"
    }
   ],
   "source": [
    "Base.promote_rule(::Type{RectangleP{T}}, ::Type{RectangleP{S}}) where {T<:Real, S<:Real} = RectangleP{promote_type(S, T)}\n",
    "Base.convert(::Type{RectangleP{T}}, x::RectangleP{S}) where {T<:Real, S<:Real} = RectangleP(T(x.w), T(x.h))\n",
    "\n",
    "function minrect(tr1::RectangleP, tr2::RectangleP)\n",
    "    r1, r2 = promote(tr1, tr2)\n",
    "    w = r1.w < r2.w ? r1.w : r2.w\n",
    "    h = r1.h < r2.h ? r1.h : r2.h\n",
    "    return RectangleP(w, h)\n",
    "end"
   ]
  },
  {
   "cell_type": "code",
   "execution_count": 148,
   "id": "d2387d33",
   "metadata": {},
   "outputs": [
    {
     "data": {
      "text/plain": [
       "RectangleP{Float64}(1.0, 2.0)"
      ]
     },
     "execution_count": 148,
     "metadata": {},
     "output_type": "execute_result"
    }
   ],
   "source": [
    "minrect(RectangleP(1, 2), RectangleP(3.0, 4.0))"
   ]
  },
  {
   "cell_type": "markdown",
   "id": "618ff77d",
   "metadata": {},
   "source": [
    "# 4.8 Conclusion"
   ]
  }
 ],
 "metadata": {
  "kernelspec": {
   "display_name": "Julia 1.6.7",
   "language": "julia",
   "name": "julia-1.6"
  },
  "language_info": {
   "file_extension": ".jl",
   "mimetype": "application/julia",
   "name": "julia",
   "version": "1.6.7"
  }
 },
 "nbformat": 4,
 "nbformat_minor": 5
}
